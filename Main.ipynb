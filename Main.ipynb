{
  "nbformat": 4,
  "nbformat_minor": 0,
  "metadata": {
    "colab": {
      "provenance": [],
      "gpuType": "T4"
    },
    "kernelspec": {
      "name": "python3",
      "display_name": "Python 3"
    },
    "language_info": {
      "name": "python"
    },
    "accelerator": "GPU"
  },
  "cells": [
    {
      "cell_type": "markdown",
      "source": [
        "# This notebook is used to demonstrate a multiclass prediction of skin cancer dataset. The dataset contains 6 different classes of skin lesions, some indicate to different kinds of cancer some indicate benign results. Dataset is heavily imbalanced with highest count in a class being 6705 and lowest being just 115.\n",
        "\n",
        "# In total it has 10,015 images."
      ],
      "metadata": {
        "id": "pNEtvpzQqfrS"
      }
    },
    {
      "cell_type": "markdown",
      "source": [
        "**First step is to mount google drive to the colab notebook using below code\n",
        "preferably use the available T4 GPU or paid versions**\n",
        "\n",
        "\n"
      ],
      "metadata": {
        "id": "QdlMXcC6rWxv"
      }
    },
    {
      "cell_type": "markdown",
      "source": [
        "We collected dermatoscopic images from different populations, acquired and stored by different modalities. The final dataset consists of 10015 dermatoscopic images which can serve as a training set for academic machine learning purposes. Cases include a representative collection of all important diagnostic categories in the realm of pigmented lesions: Actinic keratoses and intraepithelial carcinoma / Bowen's disease (akiec), basal cell carcinoma (bcc), benign keratosis-like lesions (solar lentigines / seborrheic keratoses and lichen-planus like keratoses, bkl), dermatofibroma (df), melanoma (mel), melanocytic nevi (nv) and vascular lesions (angiomas, angiokeratomas, pyogenic granulomas and hemorrhage, vasc)."
      ],
      "metadata": {
        "id": "v-8021gEyc09"
      }
    },
    {
      "cell_type": "code",
      "source": [
        "from google.colab import drive\n",
        "\n",
        "drive.mount('/content/drive')"
      ],
      "metadata": {
        "colab": {
          "base_uri": "https://localhost:8080/"
        },
        "id": "m0Xp05l7ft8O",
        "outputId": "b9d2729f-6f77-4f33-845c-9f5c883a6643"
      },
      "execution_count": 1,
      "outputs": [
        {
          "output_type": "stream",
          "name": "stdout",
          "text": [
            "Drive already mounted at /content/drive; to attempt to forcibly remount, call drive.mount(\"/content/drive\", force_remount=True).\n"
          ]
        }
      ]
    },
    {
      "cell_type": "markdown",
      "source": [
        "**We can also extract the same dataset directly frm kaggle and unzip it by running the below code in 3 cells. But we would need to do it everytime we refresh the runtime, hence it is easy to access it from drive**"
      ],
      "metadata": {
        "id": "PnFb5BdvrzR3"
      }
    },
    {
      "cell_type": "code",
      "source": [
        "#import os\n",
        "#os.environ['KAGGLE_CONFIG_DIR'] = '/content/drive/MyDrive/kaggle'"
      ],
      "metadata": {
        "id": "rhzRJ9abgjFD"
      },
      "execution_count": 2,
      "outputs": []
    },
    {
      "cell_type": "code",
      "source": [
        "#dont execute all the time\n",
        "#!kaggle datasets download -d kmader/skin-cancer-mnist-ham10000"
      ],
      "metadata": {
        "id": "CPdMvfrMaK2y"
      },
      "execution_count": 3,
      "outputs": []
    },
    {
      "cell_type": "code",
      "source": [
        "#unzip process\n",
        "#!unzip skin-cancer-mnist-ham10000.zip"
      ],
      "metadata": {
        "id": "mtaeiBvhaQKR"
      },
      "execution_count": 4,
      "outputs": []
    },
    {
      "cell_type": "markdown",
      "source": [
        "**Import required libraries for further processes**"
      ],
      "metadata": {
        "id": "X4swgSNqsKZ-"
      }
    },
    {
      "cell_type": "code",
      "source": [
        "import pandas as pd\n",
        "import numpy as np\n",
        "import matplotlib.pyplot as plt\n",
        "import seaborn as sns"
      ],
      "metadata": {
        "id": "rnjRl_Kte7Uc"
      },
      "execution_count": 5,
      "outputs": []
    },
    {
      "cell_type": "code",
      "source": [
        "from sklearn.preprocessing import StandardScaler\n",
        "from sklearn.model_selection import train_test_split"
      ],
      "metadata": {
        "id": "3jRL8xVThFI-"
      },
      "execution_count": 6,
      "outputs": []
    },
    {
      "cell_type": "code",
      "source": [
        "from imblearn.combine import SMOTETomek\n",
        "from imblearn.under_sampling import TomekLinks"
      ],
      "metadata": {
        "id": "QCdWaXTwVzCR"
      },
      "execution_count": 7,
      "outputs": []
    },
    {
      "cell_type": "code",
      "source": [
        "from sklearn.utils import class_weight"
      ],
      "metadata": {
        "id": "seBLUbnNuTkL"
      },
      "execution_count": 8,
      "outputs": []
    },
    {
      "cell_type": "code",
      "source": [
        "import tensorflow\n",
        "from tensorflow import keras\n",
        "from keras.models import Sequential, Model\n",
        "from keras import layers\n",
        "from keras.layers import Input, Dense, Dropout, Conv2D, MaxPooling2D, GlobalAveragePooling2D, Flatten, BatchNormalization\n",
        "from keras.optimizers import Adam\n",
        "from keras.callbacks import EarlyStopping"
      ],
      "metadata": {
        "id": "TkWYJfMuZn1N"
      },
      "execution_count": 9,
      "outputs": []
    },
    {
      "cell_type": "code",
      "source": [
        "from sklearn.metrics import accuracy_score , confusion_matrix, classification_report\n",
        "from sklearn.utils.class_weight import compute_sample_weight"
      ],
      "metadata": {
        "id": "jNztIq5vjZyP"
      },
      "execution_count": 10,
      "outputs": []
    },
    {
      "cell_type": "markdown",
      "source": [
        "**Read the csv file hmnist_28_28_L.csv from the drive**(download all the other csv files from the kaggle)\n",
        "**This file contains all the pixel values in grayscale, each row corresponds to 784 pixel values from pixel0000 to pixel0783** **create a collection of symptoms and their numerical representation (0-6)**"
      ],
      "metadata": {
        "id": "ma9Ea86SuK_O"
      }
    },
    {
      "cell_type": "code",
      "source": [
        "collections = { 0 : \"Actinic keratoses and intraepithelial carcinoma / Bowen's disease (akiec)\",\n",
        "               1 : \"basal cell carcinoma (bcc)\",\n",
        "                2 : \" benign keratosis-like lesions (solar lentigines / seborrheic keratoses and lichen-planus like keratoses, bkl)\",\n",
        "                3 : \"dermatofibroma (df)\",\n",
        "                4 : \"melanoma (mel)\",\n",
        "                5 : \"melanocytic nevi (nv)\",\n",
        "                6 : \"vascular lesions (angiomas, angiokeratomas, pyogenic granulomas and hemorrhage, vasc)\"}"
      ],
      "metadata": {
        "id": "F6zO-pXlyzeq"
      },
      "execution_count": 11,
      "outputs": []
    },
    {
      "cell_type": "code",
      "source": [
        "ds = pd.read_csv('/content/drive/MyDrive/cancer detection/hmnist_28_28_L.csv')"
      ],
      "metadata": {
        "id": "O9FyP-jyfRMT"
      },
      "execution_count": 12,
      "outputs": []
    },
    {
      "cell_type": "code",
      "source": [
        "ds.head()"
      ],
      "metadata": {
        "colab": {
          "base_uri": "https://localhost:8080/",
          "height": 299
        },
        "id": "g-n9dApLfaZX",
        "outputId": "96bb0a7a-7609-4d8d-f218-b5531c3f145b"
      },
      "execution_count": 13,
      "outputs": [
        {
          "output_type": "execute_result",
          "data": {
            "text/plain": [
              "   pixel0000  pixel0001  pixel0002  pixel0003  pixel0004  pixel0005  \\\n",
              "0        169        171        170        177        181        182   \n",
              "1         19         57        105        140        149        148   \n",
              "2        155        163        161        167        167        172   \n",
              "3         25         71        116        139        136        153   \n",
              "4        129        162        181        196        205        208   \n",
              "\n",
              "   pixel0006  pixel0007  pixel0008  pixel0009  ...  pixel0775  pixel0776  \\\n",
              "0        181        185        194        192  ...        184        186   \n",
              "1        144        155        170        170  ...        172        175   \n",
              "2        155        152        165        175  ...        163        178   \n",
              "3        148        161        172        162  ...        125        135   \n",
              "4        205        213        225        224  ...        210        197   \n",
              "\n",
              "   pixel0777  pixel0778  pixel0779  pixel0780  pixel0781  pixel0782  \\\n",
              "0        185        180        157        140        140        159   \n",
              "1        160        144        114         89         47         18   \n",
              "2        157        166        167        148        141        136   \n",
              "3        138        137        111         71         32         16   \n",
              "4        172        190        195        193        181        147   \n",
              "\n",
              "   pixel0783  label  \n",
              "0        165      2  \n",
              "1         18      2  \n",
              "2        115      2  \n",
              "3         16      2  \n",
              "4         88      2  \n",
              "\n",
              "[5 rows x 785 columns]"
            ],
            "text/html": [
              "\n",
              "  <div id=\"df-217d8885-1272-43ff-a16b-9665366f3645\">\n",
              "    <div class=\"colab-df-container\">\n",
              "      <div>\n",
              "<style scoped>\n",
              "    .dataframe tbody tr th:only-of-type {\n",
              "        vertical-align: middle;\n",
              "    }\n",
              "\n",
              "    .dataframe tbody tr th {\n",
              "        vertical-align: top;\n",
              "    }\n",
              "\n",
              "    .dataframe thead th {\n",
              "        text-align: right;\n",
              "    }\n",
              "</style>\n",
              "<table border=\"1\" class=\"dataframe\">\n",
              "  <thead>\n",
              "    <tr style=\"text-align: right;\">\n",
              "      <th></th>\n",
              "      <th>pixel0000</th>\n",
              "      <th>pixel0001</th>\n",
              "      <th>pixel0002</th>\n",
              "      <th>pixel0003</th>\n",
              "      <th>pixel0004</th>\n",
              "      <th>pixel0005</th>\n",
              "      <th>pixel0006</th>\n",
              "      <th>pixel0007</th>\n",
              "      <th>pixel0008</th>\n",
              "      <th>pixel0009</th>\n",
              "      <th>...</th>\n",
              "      <th>pixel0775</th>\n",
              "      <th>pixel0776</th>\n",
              "      <th>pixel0777</th>\n",
              "      <th>pixel0778</th>\n",
              "      <th>pixel0779</th>\n",
              "      <th>pixel0780</th>\n",
              "      <th>pixel0781</th>\n",
              "      <th>pixel0782</th>\n",
              "      <th>pixel0783</th>\n",
              "      <th>label</th>\n",
              "    </tr>\n",
              "  </thead>\n",
              "  <tbody>\n",
              "    <tr>\n",
              "      <th>0</th>\n",
              "      <td>169</td>\n",
              "      <td>171</td>\n",
              "      <td>170</td>\n",
              "      <td>177</td>\n",
              "      <td>181</td>\n",
              "      <td>182</td>\n",
              "      <td>181</td>\n",
              "      <td>185</td>\n",
              "      <td>194</td>\n",
              "      <td>192</td>\n",
              "      <td>...</td>\n",
              "      <td>184</td>\n",
              "      <td>186</td>\n",
              "      <td>185</td>\n",
              "      <td>180</td>\n",
              "      <td>157</td>\n",
              "      <td>140</td>\n",
              "      <td>140</td>\n",
              "      <td>159</td>\n",
              "      <td>165</td>\n",
              "      <td>2</td>\n",
              "    </tr>\n",
              "    <tr>\n",
              "      <th>1</th>\n",
              "      <td>19</td>\n",
              "      <td>57</td>\n",
              "      <td>105</td>\n",
              "      <td>140</td>\n",
              "      <td>149</td>\n",
              "      <td>148</td>\n",
              "      <td>144</td>\n",
              "      <td>155</td>\n",
              "      <td>170</td>\n",
              "      <td>170</td>\n",
              "      <td>...</td>\n",
              "      <td>172</td>\n",
              "      <td>175</td>\n",
              "      <td>160</td>\n",
              "      <td>144</td>\n",
              "      <td>114</td>\n",
              "      <td>89</td>\n",
              "      <td>47</td>\n",
              "      <td>18</td>\n",
              "      <td>18</td>\n",
              "      <td>2</td>\n",
              "    </tr>\n",
              "    <tr>\n",
              "      <th>2</th>\n",
              "      <td>155</td>\n",
              "      <td>163</td>\n",
              "      <td>161</td>\n",
              "      <td>167</td>\n",
              "      <td>167</td>\n",
              "      <td>172</td>\n",
              "      <td>155</td>\n",
              "      <td>152</td>\n",
              "      <td>165</td>\n",
              "      <td>175</td>\n",
              "      <td>...</td>\n",
              "      <td>163</td>\n",
              "      <td>178</td>\n",
              "      <td>157</td>\n",
              "      <td>166</td>\n",
              "      <td>167</td>\n",
              "      <td>148</td>\n",
              "      <td>141</td>\n",
              "      <td>136</td>\n",
              "      <td>115</td>\n",
              "      <td>2</td>\n",
              "    </tr>\n",
              "    <tr>\n",
              "      <th>3</th>\n",
              "      <td>25</td>\n",
              "      <td>71</td>\n",
              "      <td>116</td>\n",
              "      <td>139</td>\n",
              "      <td>136</td>\n",
              "      <td>153</td>\n",
              "      <td>148</td>\n",
              "      <td>161</td>\n",
              "      <td>172</td>\n",
              "      <td>162</td>\n",
              "      <td>...</td>\n",
              "      <td>125</td>\n",
              "      <td>135</td>\n",
              "      <td>138</td>\n",
              "      <td>137</td>\n",
              "      <td>111</td>\n",
              "      <td>71</td>\n",
              "      <td>32</td>\n",
              "      <td>16</td>\n",
              "      <td>16</td>\n",
              "      <td>2</td>\n",
              "    </tr>\n",
              "    <tr>\n",
              "      <th>4</th>\n",
              "      <td>129</td>\n",
              "      <td>162</td>\n",
              "      <td>181</td>\n",
              "      <td>196</td>\n",
              "      <td>205</td>\n",
              "      <td>208</td>\n",
              "      <td>205</td>\n",
              "      <td>213</td>\n",
              "      <td>225</td>\n",
              "      <td>224</td>\n",
              "      <td>...</td>\n",
              "      <td>210</td>\n",
              "      <td>197</td>\n",
              "      <td>172</td>\n",
              "      <td>190</td>\n",
              "      <td>195</td>\n",
              "      <td>193</td>\n",
              "      <td>181</td>\n",
              "      <td>147</td>\n",
              "      <td>88</td>\n",
              "      <td>2</td>\n",
              "    </tr>\n",
              "  </tbody>\n",
              "</table>\n",
              "<p>5 rows × 785 columns</p>\n",
              "</div>\n",
              "      <button class=\"colab-df-convert\" onclick=\"convertToInteractive('df-217d8885-1272-43ff-a16b-9665366f3645')\"\n",
              "              title=\"Convert this dataframe to an interactive table.\"\n",
              "              style=\"display:none;\">\n",
              "        \n",
              "  <svg xmlns=\"http://www.w3.org/2000/svg\" height=\"24px\"viewBox=\"0 0 24 24\"\n",
              "       width=\"24px\">\n",
              "    <path d=\"M0 0h24v24H0V0z\" fill=\"none\"/>\n",
              "    <path d=\"M18.56 5.44l.94 2.06.94-2.06 2.06-.94-2.06-.94-.94-2.06-.94 2.06-2.06.94zm-11 1L8.5 8.5l.94-2.06 2.06-.94-2.06-.94L8.5 2.5l-.94 2.06-2.06.94zm10 10l.94 2.06.94-2.06 2.06-.94-2.06-.94-.94-2.06-.94 2.06-2.06.94z\"/><path d=\"M17.41 7.96l-1.37-1.37c-.4-.4-.92-.59-1.43-.59-.52 0-1.04.2-1.43.59L10.3 9.45l-7.72 7.72c-.78.78-.78 2.05 0 2.83L4 21.41c.39.39.9.59 1.41.59.51 0 1.02-.2 1.41-.59l7.78-7.78 2.81-2.81c.8-.78.8-2.07 0-2.86zM5.41 20L4 18.59l7.72-7.72 1.47 1.35L5.41 20z\"/>\n",
              "  </svg>\n",
              "      </button>\n",
              "      \n",
              "  <style>\n",
              "    .colab-df-container {\n",
              "      display:flex;\n",
              "      flex-wrap:wrap;\n",
              "      gap: 12px;\n",
              "    }\n",
              "\n",
              "    .colab-df-convert {\n",
              "      background-color: #E8F0FE;\n",
              "      border: none;\n",
              "      border-radius: 50%;\n",
              "      cursor: pointer;\n",
              "      display: none;\n",
              "      fill: #1967D2;\n",
              "      height: 32px;\n",
              "      padding: 0 0 0 0;\n",
              "      width: 32px;\n",
              "    }\n",
              "\n",
              "    .colab-df-convert:hover {\n",
              "      background-color: #E2EBFA;\n",
              "      box-shadow: 0px 1px 2px rgba(60, 64, 67, 0.3), 0px 1px 3px 1px rgba(60, 64, 67, 0.15);\n",
              "      fill: #174EA6;\n",
              "    }\n",
              "\n",
              "    [theme=dark] .colab-df-convert {\n",
              "      background-color: #3B4455;\n",
              "      fill: #D2E3FC;\n",
              "    }\n",
              "\n",
              "    [theme=dark] .colab-df-convert:hover {\n",
              "      background-color: #434B5C;\n",
              "      box-shadow: 0px 1px 3px 1px rgba(0, 0, 0, 0.15);\n",
              "      filter: drop-shadow(0px 1px 2px rgba(0, 0, 0, 0.3));\n",
              "      fill: #FFFFFF;\n",
              "    }\n",
              "  </style>\n",
              "\n",
              "      <script>\n",
              "        const buttonEl =\n",
              "          document.querySelector('#df-217d8885-1272-43ff-a16b-9665366f3645 button.colab-df-convert');\n",
              "        buttonEl.style.display =\n",
              "          google.colab.kernel.accessAllowed ? 'block' : 'none';\n",
              "\n",
              "        async function convertToInteractive(key) {\n",
              "          const element = document.querySelector('#df-217d8885-1272-43ff-a16b-9665366f3645');\n",
              "          const dataTable =\n",
              "            await google.colab.kernel.invokeFunction('convertToInteractive',\n",
              "                                                     [key], {});\n",
              "          if (!dataTable) return;\n",
              "\n",
              "          const docLinkHtml = 'Like what you see? Visit the ' +\n",
              "            '<a target=\"_blank\" href=https://colab.research.google.com/notebooks/data_table.ipynb>data table notebook</a>'\n",
              "            + ' to learn more about interactive tables.';\n",
              "          element.innerHTML = '';\n",
              "          dataTable['output_type'] = 'display_data';\n",
              "          await google.colab.output.renderOutput(dataTable, element);\n",
              "          const docLink = document.createElement('div');\n",
              "          docLink.innerHTML = docLinkHtml;\n",
              "          element.appendChild(docLink);\n",
              "        }\n",
              "      </script>\n",
              "    </div>\n",
              "  </div>\n",
              "  "
            ]
          },
          "metadata": {},
          "execution_count": 13
        }
      ]
    },
    {
      "cell_type": "markdown",
      "source": [
        "**Check for any null values and the number of images belonging to each class**"
      ],
      "metadata": {
        "id": "xcVUYm28u09A"
      }
    },
    {
      "cell_type": "code",
      "source": [
        "ds['label'].value_counts()"
      ],
      "metadata": {
        "colab": {
          "base_uri": "https://localhost:8080/"
        },
        "id": "uEbca-5zfa6H",
        "outputId": "99d7414f-4ece-4050-aff6-23c84d99aaca"
      },
      "execution_count": 14,
      "outputs": [
        {
          "output_type": "execute_result",
          "data": {
            "text/plain": [
              "4    6705\n",
              "6    1113\n",
              "2    1099\n",
              "1     514\n",
              "0     327\n",
              "5     142\n",
              "3     115\n",
              "Name: label, dtype: int64"
            ]
          },
          "metadata": {},
          "execution_count": 14
        }
      ]
    },
    {
      "cell_type": "code",
      "source": [
        "ds.isnull().sum()"
      ],
      "metadata": {
        "id": "EwBUf2YXffda",
        "colab": {
          "base_uri": "https://localhost:8080/"
        },
        "outputId": "a289e79c-916b-429d-f634-765e7767d293"
      },
      "execution_count": 15,
      "outputs": [
        {
          "output_type": "execute_result",
          "data": {
            "text/plain": [
              "pixel0000    0\n",
              "pixel0001    0\n",
              "pixel0002    0\n",
              "pixel0003    0\n",
              "pixel0004    0\n",
              "            ..\n",
              "pixel0780    0\n",
              "pixel0781    0\n",
              "pixel0782    0\n",
              "pixel0783    0\n",
              "label        0\n",
              "Length: 785, dtype: int64"
            ]
          },
          "metadata": {},
          "execution_count": 15
        }
      ]
    },
    {
      "cell_type": "markdown",
      "source": [
        "**plot the first 5 images and their corresponding classes**"
      ],
      "metadata": {
        "id": "dpEr2ymSvHlY"
      }
    },
    {
      "cell_type": "code",
      "source": [
        "for i in range(0, 5):\n",
        "  df_arr = ds.iloc[i,:-1].values.reshape(28,28)\n",
        "  plt.imshow(df_arr, cmap='Blues')\n",
        "  plt.axis('off')\n",
        "  plt.show()"
      ],
      "metadata": {
        "id": "cTtt9bw0vEhS",
        "colab": {
          "base_uri": "https://localhost:8080/",
          "height": 1000
        },
        "outputId": "66720378-655d-4dea-93f0-c887eb962ed2"
      },
      "execution_count": 16,
      "outputs": [
        {
          "output_type": "display_data",
          "data": {
            "text/plain": [
              "<Figure size 640x480 with 1 Axes>"
            ],
            "image/png": "[encoded data removed]"
          },
          "metadata": {}
        },
        {
          "output_type": "display_data",
          "data": {
            "text/plain": [
              "<Figure size 640x480 with 1 Axes>"
            ],
            "image/png": "[encoded data removed]"
          },
          "metadata": {}
        },
        {
          "output_type": "display_data",
          "data": {
            "text/plain": [
              "<Figure size 640x480 with 1 Axes>"
            ],
            "image/png": "[encoded data removed]"
          },
          "metadata": {}
        },
        {
          "output_type": "display_data",
          "data": {
            "text/plain": [
              "<Figure size 640x480 with 1 Axes>"
            ],
            "image/png": "[encoded data removed]"
          },
          "metadata": {}
        },
        {
          "output_type": "display_data",
          "data": {
            "text/plain": [
              "<Figure size 640x480 with 1 Axes>"
            ],
            "image/png": "[encoded data removed]"
          },
          "metadata": {}
        }
      ]
    },
    {
      "cell_type": "markdown",
      "source": [
        "**Seperate the dataframe as X and y** **X stands for features y for labels**"
      ],
      "metadata": {
        "id": "aYM9pC2211zz"
      }
    },
    {
      "cell_type": "code",
      "source": [
        "X = ds.drop('label', axis=1)\n",
        "y=ds['label']"
      ],
      "metadata": {
        "id": "HigqeNrki3Sh"
      },
      "execution_count": 17,
      "outputs": []
    },
    {
      "cell_type": "markdown",
      "source": [
        "**Use SMOTE-Tomeklinks methods combined to balance the imbalanced data. The resulting data will have each 7 classes with 6705 examples.  For SMOTE all minority classes develop synthetic examples and for tomeklinks we use 'Not Majority' where all classes except majority classes are resampled**"
      ],
      "metadata": {
        "id": "bpQv3abc2E2U"
      }
    },
    {
      "cell_type": "code",
      "source": [
        "resample = SMOTETomek(tomek=TomekLinks(sampling_strategy='not majority'))\n",
        "X, y = resample.fit_resample(X, y)"
      ],
      "metadata": {
        "id": "WIicMUKTWsiY"
      },
      "execution_count": 18,
      "outputs": []
    },
    {
      "cell_type": "markdown",
      "source": [
        "**We standardise the feature-set of all pixel for accurate values using StandardScaler method**"
      ],
      "metadata": {
        "id": "vjb66gSK3AAD"
      }
    },
    {
      "cell_type": "code",
      "source": [
        "scl=StandardScaler()\n",
        "X_std = scl.fit_transform(X)"
      ],
      "metadata": {
        "id": "Znq211IuYcdV"
      },
      "execution_count": 19,
      "outputs": []
    },
    {
      "cell_type": "markdown",
      "source": [
        "**Finally we reshape the array to fit the dimension of the CNN to be created this completes our data collection and preprocessing.**"
      ],
      "metadata": {
        "id": "dCFkQkdi3Mkt"
      }
    },
    {
      "cell_type": "code",
      "source": [
        "#reshaping X_std for CNN\n",
        "X_std = np.array(X_std)\n",
        "X=X_std.reshape(-1, 28, 28, 1)\n",
        "print(X.shape)\n",
        "print(y.value_counts())"
      ],
      "metadata": {
        "colab": {
          "base_uri": "https://localhost:8080/"
        },
        "id": "Qd530zSXZTlF",
        "outputId": "310f3c47-2b27-4184-8b31-ef1e37431336"
      },
      "execution_count": 20,
      "outputs": [
        {
          "output_type": "stream",
          "name": "stdout",
          "text": [
            "(46933, 28, 28, 1)\n",
            "2    6705\n",
            "3    6705\n",
            "5    6705\n",
            "1    6705\n",
            "0    6705\n",
            "4    6704\n",
            "6    6704\n",
            "Name: label, dtype: int64\n"
          ]
        }
      ]
    },
    {
      "cell_type": "markdown",
      "source": [
        "**Splitting data into train and test samples**"
      ],
      "metadata": {
        "id": "ZnaAZiGu3b8W"
      }
    },
    {
      "cell_type": "code",
      "source": [
        "X_train, X_test, y_train, y_test = train_test_split(X, y, test_size=0.25, random_state=10)"
      ],
      "metadata": {
        "id": "PQqKaNuBbhcd"
      },
      "execution_count": 21,
      "outputs": []
    },
    {
      "cell_type": "markdown",
      "source": [
        "**Determine class-weights of each class by using inverse frequency method, I did not use them in end as more accurate results were recieved from SMOTE-Tomeklink data.**"
      ],
      "metadata": {
        "id": "25uOsEcW3v4J"
      }
    },
    {
      "cell_type": "code",
      "source": [
        "class_frequencies = np.bincount(y_train)\n",
        "print(class_frequencies)\n",
        "inverse_class_frequencies = 1.0/np.sqrt(class_frequencies)\n",
        "class_weights = inverse_class_frequencies/np.sum(inverse_class_frequencies)\n",
        "class_weights = dict(enumerate(class_weights))\n",
        "print('class weights are: ', class_weights)"
      ],
      "metadata": {
        "colab": {
          "base_uri": "https://localhost:8080/"
        },
        "id": "SBaIu5WNucKW",
        "outputId": "8162d199-5da0-40e1-bdb8-59e94ab83c23"
      },
      "execution_count": 22,
      "outputs": [
        {
          "output_type": "stream",
          "name": "stdout",
          "text": [
            "[5044 5023 5014 5063 5038 4976 5041]\n",
            "class weights are:  {0: 0.1426350464531887, 1: 0.14293289751841748, 2: 0.14306112042759864, 3: 0.14236716049710818, 4: 0.14271995669770868, 5: 0.14360633577995008, 6: 0.1426774826260282}\n"
          ]
        }
      ]
    },
    {
      "cell_type": "markdown",
      "source": [
        "**Calculated sample weights for a better accuracy for each class**"
      ],
      "metadata": {
        "id": "KAFcmknZ9sFx"
      }
    },
    {
      "cell_type": "code",
      "source": [
        "class_labels = np.unique(y_train)\n",
        "y_train_int = np.array([np.where(class_labels == label)[0][0] for label in y_train])\n",
        "sample_weights = compute_sample_weight(class_weight=class_weights, y=y_train_int)\n",
        "print(sample_weights)"
      ],
      "metadata": {
        "colab": {
          "base_uri": "https://localhost:8080/"
        },
        "id": "ABtoIMgq9szI",
        "outputId": "6c3faab3-1631-49b2-a57d-2691705ba7d6"
      },
      "execution_count": 23,
      "outputs": [
        {
          "output_type": "stream",
          "name": "stdout",
          "text": [
            "[0.1429329  0.14360634 0.14271996 ... 0.14236716 0.14360634 0.1429329 ]\n"
          ]
        }
      ]
    },
    {
      "cell_type": "markdown",
      "source": [
        "**Below code is the Convolutional Neural Network Architecture code, It starts with 16 filters and ends at 128 filters, The dense layer has more or less same units of neurons per layer. Dense and Convolutional are joined by averagepooling layer which gives a global output to ANN of the image. I added dropout layers with 20% dropout probability which reduces overfitting at very high-levels, regularizations didn't work well here, hence I used dropouts.**"
      ],
      "metadata": {
        "id": "rY8w0ZYV4Hrd"
      }
    },
    {
      "cell_type": "code",
      "source": [
        "inputs = Input(shape=(28, 28, 1), name='input')\n",
        "\n",
        "\n",
        "conv1 = Conv2D(filters=16, kernel_size=(2,2), name='conv1', padding='same', strides=(1,1))(inputs)\n",
        "maxpool1 = MaxPooling2D(pool_size=(2,2), name='maxpool1')(conv1)\n",
        "batch1=BatchNormalization()(maxpool1)\n",
        "\n",
        "conv2 = Conv2D(filters=32, kernel_size=(2,2), name='conv2', padding='same', strides=(1,1))(batch1)\n",
        "maxpool2 = MaxPooling2D(pool_size=(2,2), name='maxpool2')(conv2)\n",
        "batch2=BatchNormalization()(maxpool2)\n",
        "\n",
        "conv3 = Conv2D(filters=64, kernel_size=(2,2), name='conv3', padding='same', strides=(1,1))(batch2)\n",
        "maxpool3 = MaxPooling2D(pool_size=(2,2), name='maxpool3')(conv3)\n",
        "batch3=BatchNormalization()(maxpool3)\n",
        "\n",
        "\n",
        "conv4 = Conv2D(filters=128, kernel_size=(2,2), name='conv4',padding='same', strides=(1, 1))(batch3)\n",
        "maxpool4 = MaxPooling2D( name='maxpool4')(conv4)\n",
        "\n",
        "\n",
        "avgpool = GlobalAveragePooling2D(name='avgpool')(maxpool4)\n",
        "batch4=BatchNormalization()(avgpool)\n",
        "\n",
        "\n",
        "dense1 = Dense(128, activation='relu', name='dense1')(batch4)\n",
        "dropout1 = Dropout(0.2)(dense1)\n",
        "batch5=BatchNormalization()(dropout1)\n",
        "\n",
        "\n",
        "dense2 = Dense(64, activation='relu', name='dense2')(batch5)\n",
        "dropout2 = Dropout(0.2)(dense2)\n",
        "batch6=BatchNormalization()(dropout2)\n",
        "\n",
        "\n",
        "dense3 = Dense(32,  activation = 'relu', name='dense3')(batch6)\n",
        "dropout3 = Dropout(0.2)(dense3)\n",
        "batch7=BatchNormalization()(dropout3)\n",
        "\n",
        "\n",
        "outputs = Dense(7, activation='softmax', name='output')(batch7)\n",
        "\n",
        "model = Model(inputs=inputs, outputs=outputs)\n",
        "model.summary()\n",
        "keras.utils.plot_model(model)"
      ],
      "metadata": {
        "id": "lI0v9-BoaIBz",
        "colab": {
          "base_uri": "https://localhost:8080/",
          "height": 1000
        },
        "outputId": "f1df1289-e081-4c8a-ca67-fef43433b2cc"
      },
      "execution_count": 35,
      "outputs": [
        {
          "output_type": "stream",
          "name": "stdout",
          "text": [
            "Model: \"model_1\"\n",
            "_________________________________________________________________\n",
            " Layer (type)                Output Shape              Param #   \n",
            "=================================================================\n",
            " input (InputLayer)          [(None, 28, 28, 1)]       0         \n",
            "                                                                 \n",
            " conv1 (Conv2D)              (None, 28, 28, 16)        80        \n",
            "                                                                 \n",
            " maxpool1 (MaxPooling2D)     (None, 14, 14, 16)        0         \n",
            "                                                                 \n",
            " batch_normalization_7 (Batc  (None, 14, 14, 16)       64        \n",
            " hNormalization)                                                 \n",
            "                                                                 \n",
            " conv2 (Conv2D)              (None, 14, 14, 32)        2080      \n",
            "                                                                 \n",
            " maxpool2 (MaxPooling2D)     (None, 7, 7, 32)          0         \n",
            "                                                                 \n",
            " batch_normalization_8 (Batc  (None, 7, 7, 32)         128       \n",
            " hNormalization)                                                 \n",
            "                                                                 \n",
            " conv3 (Conv2D)              (None, 7, 7, 64)          8256      \n",
            "                                                                 \n",
            " maxpool3 (MaxPooling2D)     (None, 3, 3, 64)          0         \n",
            "                                                                 \n",
            " batch_normalization_9 (Batc  (None, 3, 3, 64)         256       \n",
            " hNormalization)                                                 \n",
            "                                                                 \n",
            " conv4 (Conv2D)              (None, 3, 3, 128)         32896     \n",
            "                                                                 \n",
            " maxpool4 (MaxPooling2D)     (None, 1, 1, 128)         0         \n",
            "                                                                 \n",
            " avgpool (GlobalAveragePooli  (None, 128)              0         \n",
            " ng2D)                                                           \n",
            "                                                                 \n",
            " batch_normalization_10 (Bat  (None, 128)              512       \n",
            " chNormalization)                                                \n",
            "                                                                 \n",
            " dense1 (Dense)              (None, 128)               16512     \n",
            "                                                                 \n",
            " dropout_3 (Dropout)         (None, 128)               0         \n",
            "                                                                 \n",
            " batch_normalization_11 (Bat  (None, 128)              512       \n",
            " chNormalization)                                                \n",
            "                                                                 \n",
            " dense2 (Dense)              (None, 64)                8256      \n",
            "                                                                 \n",
            " dropout_4 (Dropout)         (None, 64)                0         \n",
            "                                                                 \n",
            " batch_normalization_12 (Bat  (None, 64)               256       \n",
            " chNormalization)                                                \n",
            "                                                                 \n",
            " dense3 (Dense)              (None, 32)                2080      \n",
            "                                                                 \n",
            " dropout_5 (Dropout)         (None, 32)                0         \n",
            "                                                                 \n",
            " batch_normalization_13 (Bat  (None, 32)               128       \n",
            " chNormalization)                                                \n",
            "                                                                 \n",
            " output (Dense)              (None, 7)                 231       \n",
            "                                                                 \n",
            "=================================================================\n",
            "Total params: 72,247\n",
            "Trainable params: 71,319\n",
            "Non-trainable params: 928\n",
            "_________________________________________________________________\n"
          ]
        },
        {
          "output_type": "execute_result",
          "data": {
            "image/png": "[encoded data removed]",
            "text/plain": [
              "<IPython.core.display.Image object>"
            ]
          },
          "metadata": {},
          "execution_count": 35
        }
      ]
    },
    {
      "cell_type": "markdown",
      "source": [
        "**Compile the model with Adam as the optimizer and a fixed learning rate (0.001)loss function used is sparse categorical crossentropy as it is a Multiclass Calssification, metrics are accuracy as it is simple to use**"
      ],
      "metadata": {
        "id": "GhQy42VE5wxD"
      }
    },
    {
      "cell_type": "code",
      "source": [
        "model.compile(optimizer=Adam(learning_rate=0.001), loss='sparse_categorical_crossentropy', metrics=['accuracy'], weighted_metrics=[])"
      ],
      "metadata": {
        "id": "vog7zAGygRQ5"
      },
      "execution_count": 36,
      "outputs": []
    },
    {
      "cell_type": "markdown",
      "source": [
        "**I wanted the best trained model hence I used EarlyStopping technique, as the dataset contains 10,015 images it is a lot of data and for each epoch the validation loss or loss calculated on validation set, shouldn't be too far of the training loss. It also restores best weights i.e. weightss that give least loss.**"
      ],
      "metadata": {
        "id": "m16SL_KC6G6B"
      }
    },
    {
      "cell_type": "code",
      "source": [
        "model_history = model.fit(X_train, y_train, batch_size=32, epochs=100, validation_split=0.2, callbacks=EarlyStopping(monitor='val_loss', patience=10, restore_best_weights=True))"
      ],
      "metadata": {
        "colab": {
          "base_uri": "https://localhost:8080/"
        },
        "id": "eW_Y1_CCDRn5",
        "outputId": "e0f20a6e-7894-4b08-8172-ee5d4560d41e"
      },
      "execution_count": 37,
      "outputs": [
        {
          "output_type": "stream",
          "name": "stdout",
          "text": [
            "Epoch 1/100\n",
            "880/880 [==============================] - 9s 8ms/step - loss: 1.5324 - accuracy: 0.4090 - val_loss: 1.0908 - val_accuracy: 0.6048\n",
            "Epoch 2/100\n",
            "880/880 [==============================] - 8s 9ms/step - loss: 1.0965 - accuracy: 0.5852 - val_loss: 0.8342 - val_accuracy: 0.6955\n",
            "Epoch 3/100\n",
            "880/880 [==============================] - 6s 7ms/step - loss: 0.8690 - accuracy: 0.6767 - val_loss: 0.6533 - val_accuracy: 0.7472\n",
            "Epoch 4/100\n",
            "880/880 [==============================] - 8s 9ms/step - loss: 0.7349 - accuracy: 0.7280 - val_loss: 0.5745 - val_accuracy: 0.7884\n",
            "Epoch 5/100\n",
            "880/880 [==============================] - 6s 7ms/step - loss: 0.6255 - accuracy: 0.7671 - val_loss: 0.4568 - val_accuracy: 0.8251\n",
            "Epoch 6/100\n",
            "880/880 [==============================] - 8s 9ms/step - loss: 0.5608 - accuracy: 0.7950 - val_loss: 0.4529 - val_accuracy: 0.8311\n",
            "Epoch 7/100\n",
            "880/880 [==============================] - 7s 7ms/step - loss: 0.5089 - accuracy: 0.8163 - val_loss: 0.3600 - val_accuracy: 0.8713\n",
            "Epoch 8/100\n",
            "880/880 [==============================] - 8s 9ms/step - loss: 0.4601 - accuracy: 0.8361 - val_loss: 0.3678 - val_accuracy: 0.8604\n",
            "Epoch 9/100\n",
            "880/880 [==============================] - 6s 7ms/step - loss: 0.4248 - accuracy: 0.8494 - val_loss: 0.3354 - val_accuracy: 0.8780\n",
            "Epoch 10/100\n",
            "880/880 [==============================] - 8s 9ms/step - loss: 0.3995 - accuracy: 0.8594 - val_loss: 0.3387 - val_accuracy: 0.8786\n",
            "Epoch 11/100\n",
            "880/880 [==============================] - 6s 7ms/step - loss: 0.3690 - accuracy: 0.8712 - val_loss: 0.3383 - val_accuracy: 0.8743\n",
            "Epoch 12/100\n",
            "880/880 [==============================] - 7s 8ms/step - loss: 0.3385 - accuracy: 0.8824 - val_loss: 0.3009 - val_accuracy: 0.8903\n",
            "Epoch 13/100\n",
            "880/880 [==============================] - 7s 7ms/step - loss: 0.3212 - accuracy: 0.8900 - val_loss: 0.2582 - val_accuracy: 0.9077\n",
            "Epoch 14/100\n",
            "880/880 [==============================] - 8s 9ms/step - loss: 0.3007 - accuracy: 0.8986 - val_loss: 0.2760 - val_accuracy: 0.9001\n",
            "Epoch 15/100\n",
            "880/880 [==============================] - 7s 7ms/step - loss: 0.2861 - accuracy: 0.9016 - val_loss: 0.2504 - val_accuracy: 0.9099\n",
            "Epoch 16/100\n",
            "880/880 [==============================] - 7s 9ms/step - loss: 0.2772 - accuracy: 0.9076 - val_loss: 0.2526 - val_accuracy: 0.9105\n",
            "Epoch 17/100\n",
            "880/880 [==============================] - 6s 7ms/step - loss: 0.2480 - accuracy: 0.9160 - val_loss: 0.2616 - val_accuracy: 0.9097\n",
            "Epoch 18/100\n",
            "880/880 [==============================] - 8s 9ms/step - loss: 0.2478 - accuracy: 0.9171 - val_loss: 0.2420 - val_accuracy: 0.9146\n",
            "Epoch 19/100\n",
            "880/880 [==============================] - 9s 10ms/step - loss: 0.2305 - accuracy: 0.9213 - val_loss: 0.2350 - val_accuracy: 0.9241\n",
            "Epoch 20/100\n",
            "880/880 [==============================] - 7s 7ms/step - loss: 0.2224 - accuracy: 0.9268 - val_loss: 0.2377 - val_accuracy: 0.9189\n",
            "Epoch 21/100\n",
            "880/880 [==============================] - 7s 9ms/step - loss: 0.2074 - accuracy: 0.9320 - val_loss: 0.2357 - val_accuracy: 0.9206\n",
            "Epoch 22/100\n",
            "880/880 [==============================] - 6s 7ms/step - loss: 0.2105 - accuracy: 0.9316 - val_loss: 0.2366 - val_accuracy: 0.9200\n",
            "Epoch 23/100\n",
            "880/880 [==============================] - 8s 9ms/step - loss: 0.1997 - accuracy: 0.9345 - val_loss: 0.2210 - val_accuracy: 0.9203\n",
            "Epoch 24/100\n",
            "880/880 [==============================] - 6s 7ms/step - loss: 0.1806 - accuracy: 0.9397 - val_loss: 0.2396 - val_accuracy: 0.9216\n",
            "Epoch 25/100\n",
            "880/880 [==============================] - 8s 9ms/step - loss: 0.1901 - accuracy: 0.9382 - val_loss: 0.2370 - val_accuracy: 0.9223\n",
            "Epoch 26/100\n",
            "880/880 [==============================] - 7s 7ms/step - loss: 0.1752 - accuracy: 0.9436 - val_loss: 0.2441 - val_accuracy: 0.9222\n",
            "Epoch 27/100\n",
            "880/880 [==============================] - 8s 9ms/step - loss: 0.1740 - accuracy: 0.9426 - val_loss: 0.2329 - val_accuracy: 0.9256\n",
            "Epoch 28/100\n",
            "880/880 [==============================] - 7s 7ms/step - loss: 0.1727 - accuracy: 0.9450 - val_loss: 0.2142 - val_accuracy: 0.9280\n",
            "Epoch 29/100\n",
            "880/880 [==============================] - 8s 9ms/step - loss: 0.1553 - accuracy: 0.9493 - val_loss: 0.2199 - val_accuracy: 0.9295\n",
            "Epoch 30/100\n",
            "880/880 [==============================] - 7s 8ms/step - loss: 0.1522 - accuracy: 0.9510 - val_loss: 0.2135 - val_accuracy: 0.9263\n",
            "Epoch 31/100\n",
            "880/880 [==============================] - 8s 9ms/step - loss: 0.1524 - accuracy: 0.9507 - val_loss: 0.2365 - val_accuracy: 0.9247\n",
            "Epoch 32/100\n",
            "880/880 [==============================] - 7s 8ms/step - loss: 0.1498 - accuracy: 0.9517 - val_loss: 0.2500 - val_accuracy: 0.9183\n",
            "Epoch 33/100\n",
            "880/880 [==============================] - 8s 9ms/step - loss: 0.1513 - accuracy: 0.9515 - val_loss: 0.2506 - val_accuracy: 0.9222\n",
            "Epoch 34/100\n",
            "880/880 [==============================] - 7s 7ms/step - loss: 0.1460 - accuracy: 0.9528 - val_loss: 0.2345 - val_accuracy: 0.9259\n",
            "Epoch 35/100\n",
            "880/880 [==============================] - 8s 9ms/step - loss: 0.1419 - accuracy: 0.9548 - val_loss: 0.2239 - val_accuracy: 0.9287\n",
            "Epoch 36/100\n",
            "880/880 [==============================] - 7s 8ms/step - loss: 0.1280 - accuracy: 0.9580 - val_loss: 0.2659 - val_accuracy: 0.9155\n",
            "Epoch 37/100\n",
            "880/880 [==============================] - 7s 8ms/step - loss: 0.1283 - accuracy: 0.9595 - val_loss: 0.2090 - val_accuracy: 0.9312\n",
            "Epoch 38/100\n",
            "880/880 [==============================] - 8s 9ms/step - loss: 0.1155 - accuracy: 0.9622 - val_loss: 0.2243 - val_accuracy: 0.9354\n",
            "Epoch 39/100\n",
            "880/880 [==============================] - 7s 8ms/step - loss: 0.1258 - accuracy: 0.9587 - val_loss: 0.2246 - val_accuracy: 0.9322\n",
            "Epoch 40/100\n",
            "880/880 [==============================] - 8s 9ms/step - loss: 0.1236 - accuracy: 0.9600 - val_loss: 0.2197 - val_accuracy: 0.9349\n",
            "Epoch 41/100\n",
            "880/880 [==============================] - 7s 7ms/step - loss: 0.1231 - accuracy: 0.9597 - val_loss: 0.2302 - val_accuracy: 0.9364\n",
            "Epoch 42/100\n",
            "880/880 [==============================] - 8s 9ms/step - loss: 0.1096 - accuracy: 0.9645 - val_loss: 0.2326 - val_accuracy: 0.9325\n",
            "Epoch 43/100\n",
            "880/880 [==============================] - 6s 7ms/step - loss: 0.1132 - accuracy: 0.9630 - val_loss: 0.2371 - val_accuracy: 0.9300\n",
            "Epoch 44/100\n",
            "880/880 [==============================] - 8s 9ms/step - loss: 0.1102 - accuracy: 0.9654 - val_loss: 0.2355 - val_accuracy: 0.9334\n",
            "Epoch 45/100\n",
            "880/880 [==============================] - 6s 7ms/step - loss: 0.1091 - accuracy: 0.9654 - val_loss: 0.2258 - val_accuracy: 0.9325\n",
            "Epoch 46/100\n",
            "880/880 [==============================] - 8s 9ms/step - loss: 0.1019 - accuracy: 0.9669 - val_loss: 0.2214 - val_accuracy: 0.9330\n",
            "Epoch 47/100\n",
            "880/880 [==============================] - 6s 7ms/step - loss: 0.0932 - accuracy: 0.9708 - val_loss: 0.2144 - val_accuracy: 0.9362\n"
          ]
        }
      ]
    },
    {
      "cell_type": "markdown",
      "source": [
        "**Plot of Accuracy of the model training**"
      ],
      "metadata": {
        "id": "I2rhlCar63-6"
      }
    },
    {
      "cell_type": "code",
      "source": [
        "plt.plot(model_history.history['accuracy'])\n",
        "plt.plot(model_history.history['val_accuracy'])\n",
        "plt.title('Accuracy of Model')\n",
        "plt.xlabel('Epochs')\n",
        "plt.ylabel('Accuracy')\n",
        "plt.legend(['train acc', 'val acc'], loc='upper left')\n",
        "plt.plot()"
      ],
      "metadata": {
        "colab": {
          "base_uri": "https://localhost:8080/",
          "height": 489
        },
        "id": "xlMwD7--iFp_",
        "outputId": "92482249-1933-4bd1-add9-6a0b1d5f8b87"
      },
      "execution_count": 27,
      "outputs": [
        {
          "output_type": "execute_result",
          "data": {
            "text/plain": [
              "[]"
            ]
          },
          "metadata": {},
          "execution_count": 27
        },
        {
          "output_type": "display_data",
          "data": {
            "text/plain": [
              "<Figure size 640x480 with 1 Axes>"
            ],
            "image/png": "[encoded data removed]"
          },
          "metadata": {}
        }
      ]
    },
    {
      "cell_type": "markdown",
      "source": [
        "**Plot of Loss during training time**"
      ],
      "metadata": {
        "id": "UqpRhQ1B7AiJ"
      }
    },
    {
      "cell_type": "code",
      "source": [
        "plt.plot(model_history.history['loss'])\n",
        "plt.plot(model_history.history['val_loss'])\n",
        "plt.title('Loss of Model')\n",
        "plt.xlabel('Epochs')\n",
        "plt.ylabel('Loss')\n",
        "plt.legend(['train loss', 'val loss'], loc='upper left')\n",
        "plt.plot()"
      ],
      "metadata": {
        "colab": {
          "base_uri": "https://localhost:8080/",
          "height": 489
        },
        "id": "dp7kYOjki0mr",
        "outputId": "4d34e45f-03c3-417c-f25d-ab3699dc91bc"
      },
      "execution_count": 28,
      "outputs": [
        {
          "output_type": "execute_result",
          "data": {
            "text/plain": [
              "[]"
            ]
          },
          "metadata": {},
          "execution_count": 28
        },
        {
          "output_type": "display_data",
          "data": {
            "text/plain": [
              "<Figure size 640x480 with 1 Axes>"
            ],
            "image/png": "[encoded data removed]"
          },
          "metadata": {}
        }
      ]
    },
    {
      "cell_type": "markdown",
      "source": [
        "**We test the model using X_test set**"
      ],
      "metadata": {
        "id": "dwY4LeMb7JZo"
      }
    },
    {
      "cell_type": "code",
      "source": [
        "x_pred = model.predict(X_test)"
      ],
      "metadata": {
        "colab": {
          "base_uri": "https://localhost:8080/"
        },
        "id": "MUl2SbDsjIs_",
        "outputId": "27840a2f-ab86-4b46-9a21-734273468bf5"
      },
      "execution_count": 29,
      "outputs": [
        {
          "output_type": "stream",
          "name": "stdout",
          "text": [
            "367/367 [==============================] - 2s 3ms/step\n"
          ]
        }
      ]
    },
    {
      "cell_type": "markdown",
      "source": [
        "**Each of the 367 image gave a vector of size 7 we use np.argmax() method to get the index of the highest value, which is inturn the predicted class of the image with highest probability. **"
      ],
      "metadata": {
        "id": "C7RugbWO7U3r"
      }
    },
    {
      "cell_type": "code",
      "source": [
        "x_pred = np.argmax(x_pred, axis=-1)"
      ],
      "metadata": {
        "id": "eI6etmV-jUo7"
      },
      "execution_count": 30,
      "outputs": []
    },
    {
      "cell_type": "markdown",
      "source": [
        "**We find the accuracy of the model by comparing it to y_test, we also find the confusion matrix and classification reports**\n",
        "\n"
      ],
      "metadata": {
        "id": "Iif8cIim8BjR"
      }
    },
    {
      "cell_type": "code",
      "source": [
        "print('Accuracy of the model is:- ', accuracy_score(x_pred, y_test))"
      ],
      "metadata": {
        "colab": {
          "base_uri": "https://localhost:8080/"
        },
        "id": "rwetrFFWja85",
        "outputId": "3ec7a074-534c-459d-c5cd-fa9d17f84321"
      },
      "execution_count": 31,
      "outputs": [
        {
          "output_type": "stream",
          "name": "stdout",
          "text": [
            "Accuracy of the model is:-  0.9093233339014829\n"
          ]
        }
      ]
    },
    {
      "cell_type": "code",
      "source": [
        "print('confusion matrix:-')\n",
        "confusion_matrix(y_test, x_pred)"
      ],
      "metadata": {
        "colab": {
          "base_uri": "https://localhost:8080/"
        },
        "id": "eXeoxglqjzJL",
        "outputId": "3f75a67f-4e60-4b07-b388-293dbbbe413f"
      },
      "execution_count": 32,
      "outputs": [
        {
          "output_type": "stream",
          "name": "stdout",
          "text": [
            "confusion matrix:-\n"
          ]
        },
        {
          "output_type": "execute_result",
          "data": {
            "text/plain": [
              "array([[1644,    8,    7,    0,    0,    0,    2],\n",
              "       [  15, 1641,   13,    1,    9,    2,    1],\n",
              "       [  28,   34, 1467,    4,   90,    2,   66],\n",
              "       [   0,    2,    3, 1637,    0,    0,    0],\n",
              "       [  15,   58,  160,    7, 1136,   42,  248],\n",
              "       [   1,    1,    1,    0,    6, 1719,    1],\n",
              "       [   4,    4,   78,    3,  146,    2, 1426]])"
            ]
          },
          "metadata": {},
          "execution_count": 32
        }
      ]
    },
    {
      "cell_type": "markdown",
      "source": [
        "**The plotted confusion matrix shows the dark blue diagonal pattern, each box in (0, 0) to (6,6) represents the True positive predictions, rest show the TN, FP, FN in each of the other boxes**"
      ],
      "metadata": {
        "id": "T1Wloxzp8UPu"
      }
    },
    {
      "cell_type": "code",
      "source": [
        "plt.figure(figsize=(6,6))\n",
        "sns.heatmap(confusion_matrix(y_test, x_pred), annot=True, fmt='g', vmin=0, cbar=False, cmap='Blues')\n",
        "plt.show()"
      ],
      "metadata": {
        "colab": {
          "base_uri": "https://localhost:8080/",
          "height": 522
        },
        "id": "i2HMPAIij_Rd",
        "outputId": "5e4ed2f8-1d5d-43f5-d316-11ca80ad6409"
      },
      "execution_count": 33,
      "outputs": [
        {
          "output_type": "display_data",
          "data": {
            "text/plain": [
              "<Figure size 600x600 with 1 Axes>"
            ],
            "image/png": "[encoded data removed]"
          },
          "metadata": {}
        }
      ]
    },
    {
      "cell_type": "markdown",
      "source": [
        "**From the classification report we can conclude that class 4 i.e. \"melanoma (mel)\" has lowest accuracy and precision score which means model cannot predict it as good as others. Class 4 or Melanoma examples were highest in the initial dataset, but to compensate for lack of other classes the Tomek-link algorithm applied on it removed some of the outliers, which are important in medical diagnosis classification. Hence we get all the other classes with high accuracy and one with little less accuracy.**\n",
        "\n",
        "\n"
      ],
      "metadata": {
        "id": "R3SLXhPW8717"
      }
    },
    {
      "cell_type": "code",
      "source": [
        "print('classification report :-')\n",
        "print(classification_report(y_test, x_pred))"
      ],
      "metadata": {
        "colab": {
          "base_uri": "https://localhost:8080/"
        },
        "id": "USfawPsakoUr",
        "outputId": "3213249f-b4f9-41d7-b35f-fa5d596081c3"
      },
      "execution_count": 34,
      "outputs": [
        {
          "output_type": "stream",
          "name": "stdout",
          "text": [
            "classification report :-\n",
            "              precision    recall  f1-score   support\n",
            "\n",
            "           0       0.96      0.99      0.98      1661\n",
            "           1       0.94      0.98      0.96      1682\n",
            "           2       0.85      0.87      0.86      1691\n",
            "           3       0.99      1.00      0.99      1642\n",
            "           4       0.82      0.68      0.74      1666\n",
            "           5       0.97      0.99      0.98      1729\n",
            "           6       0.82      0.86      0.84      1663\n",
            "\n",
            "    accuracy                           0.91     11734\n",
            "   macro avg       0.91      0.91      0.91     11734\n",
            "weighted avg       0.91      0.91      0.91     11734\n",
            "\n"
          ]
        }
      ]
    },
    {
      "cell_type": "markdown",
      "source": [
        "**Saved the final model in drive using save() method**"
      ],
      "metadata": {
        "id": "3jQP4PCF-lUU"
      }
    },
    {
      "cell_type": "code",
      "source": [
        "import os\n",
        "folder_path = '/content/drive/MyDrive/Cancer Detection'\n",
        "file_name = 'skin_lesion_final_model.h5'\n",
        "model.save(os.path.join(folder_path, file_name))"
      ],
      "metadata": {
        "id": "hoNuw7XNOFFW"
      },
      "execution_count": 39,
      "outputs": []
    },
    {
      "cell_type": "code",
      "source": [],
      "metadata": {
        "id": "m2tspIncOWmy"
      },
      "execution_count": null,
      "outputs": []
    }
  ]
}