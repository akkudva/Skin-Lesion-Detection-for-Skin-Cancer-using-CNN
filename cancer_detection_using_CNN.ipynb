{
  "nbformat": 4,
  "nbformat_minor": 0,
  "metadata": {
    "colab": {
      "provenance": [],
      "gpuType": "T4"
    },
    "kernelspec": {
      "name": "python3",
      "display_name": "Python 3"
    },
    "language_info": {
      "name": "python"
    }
  },
  "cells": [
    {
      "cell_type": "markdown",
      "source": [
        "# This notebook is used to demonstrate a multiclass prediction of skin cancer dataset. The dataset contains 6 different classes of skin lesions, some indicate to different kinds of cancer some indicate benign results. Dataset is heavily imbalanced with highest count in a class being 6705 and lowest being just 115.\n",
        "\n",
        "# In total it has 10,015 images."
      ],
      "metadata": {
        "id": "pNEtvpzQqfrS"
      }
    },
    {
      "cell_type": "markdown",
      "source": [
        "**First step is to mount google drive to the colab notebook using below code\n",
        "preferably use the available T4 GPU or paid versions**\n",
        "\n",
        "\n"
      ],
      "metadata": {
        "id": "QdlMXcC6rWxv"
      }
    },
    {
      "cell_type": "markdown",
      "source": [
        "We collected dermatoscopic images from different populations, acquired and stored by different modalities. The final dataset consists of 10015 dermatoscopic images which can serve as a training set for academic machine learning purposes. Cases include a representative collection of all important diagnostic categories in the realm of pigmented lesions: Actinic keratoses and intraepithelial carcinoma / Bowen's disease (akiec), basal cell carcinoma (bcc), benign keratosis-like lesions (solar lentigines / seborrheic keratoses and lichen-planus like keratoses, bkl), dermatofibroma (df), melanoma (mel), melanocytic nevi (nv) and vascular lesions (angiomas, angiokeratomas, pyogenic granulomas and hemorrhage, vasc)."
      ],
      "metadata": {
        "id": "v-8021gEyc09"
      }
    },
    {
      "cell_type": "code",
      "source": [
        "from google.colab import drive\n",
        "\n",
        "drive.mount('/content/drive')"
      ],
      "metadata": {
        "colab": {
          "base_uri": "https://localhost:8080/"
        },
        "id": "m0Xp05l7ft8O",
        "outputId": "7c29b98c-5545-471c-cfc9-5b7b4530f3dc"
      },
      "execution_count": 1,
      "outputs": [
        {
          "output_type": "stream",
          "name": "stdout",
          "text": [
            "Mounted at /content/drive\n"
          ]
        }
      ]
    },
    {
      "cell_type": "markdown",
      "source": [
        "**We can also extract the same dataset directly frm kaggle and unzip it by running the below code in 3 cells. But we would need to do it everytime we refresh the runtime, hence it is easy to access it from drive**"
      ],
      "metadata": {
        "id": "PnFb5BdvrzR3"
      }
    },
    {
      "cell_type": "code",
      "source": [
        "#import os\n",
        "#os.environ['KAGGLE_CONFIG_DIR'] = '/content/drive/MyDrive/kaggle'"
      ],
      "metadata": {
        "id": "rhzRJ9abgjFD"
      },
      "execution_count": 2,
      "outputs": []
    },
    {
      "cell_type": "code",
      "source": [
        "#dont execute all the time\n",
        "#!kaggle datasets download -d kmader/skin-cancer-mnist-ham10000"
      ],
      "metadata": {
        "id": "CPdMvfrMaK2y"
      },
      "execution_count": 3,
      "outputs": []
    },
    {
      "cell_type": "code",
      "source": [
        "#unzip process\n",
        "#!unzip skin-cancer-mnist-ham10000.zip"
      ],
      "metadata": {
        "id": "mtaeiBvhaQKR"
      },
      "execution_count": 4,
      "outputs": []
    },
    {
      "cell_type": "markdown",
      "source": [
        "**Import required libraries for further processes**"
      ],
      "metadata": {
        "id": "X4swgSNqsKZ-"
      }
    },
    {
      "cell_type": "code",
      "source": [
        "import pandas as pd\n",
        "import numpy as np\n",
        "import matplotlib.pyplot as plt\n",
        "import seaborn as sns"
      ],
      "metadata": {
        "id": "rnjRl_Kte7Uc"
      },
      "execution_count": 5,
      "outputs": []
    },
    {
      "cell_type": "code",
      "source": [
        "from sklearn.preprocessing import StandardScaler\n",
        "from sklearn.model_selection import train_test_split"
      ],
      "metadata": {
        "id": "3jRL8xVThFI-"
      },
      "execution_count": 6,
      "outputs": []
    },
    {
      "cell_type": "code",
      "source": [
        "from imblearn.combine import SMOTETomek\n",
        "from imblearn.under_sampling import TomekLinks"
      ],
      "metadata": {
        "id": "QCdWaXTwVzCR"
      },
      "execution_count": 7,
      "outputs": []
    },
    {
      "cell_type": "code",
      "source": [
        "from sklearn.utils import class_weight"
      ],
      "metadata": {
        "id": "seBLUbnNuTkL"
      },
      "execution_count": 8,
      "outputs": []
    },
    {
      "cell_type": "code",
      "source": [
        "import tensorflow\n",
        "from tensorflow import keras\n",
        "from keras.models import Sequential, Model\n",
        "from keras import layers\n",
        "from keras.layers import Input, Dense, Dropout, Conv2D, MaxPooling2D, GlobalAveragePooling2D, Flatten\n",
        "from keras.optimizers import Adam\n",
        "from keras.callbacks import EarlyStopping"
      ],
      "metadata": {
        "id": "TkWYJfMuZn1N"
      },
      "execution_count": 9,
      "outputs": []
    },
    {
      "cell_type": "code",
      "source": [
        "from sklearn.metrics import accuracy_score , confusion_matrix, classification_report\n",
        "from sklearn.utils.class_weight import compute_sample_weight"
      ],
      "metadata": {
        "id": "jNztIq5vjZyP"
      },
      "execution_count": 10,
      "outputs": []
    },
    {
      "cell_type": "markdown",
      "source": [
        "**Read the csv file hmnist_28_28_L.csv from the drive**(download all the other csv files from the kaggle)\n",
        "**This file contains all the pixel values in grayscale, each row corresponds to 784 pixel values from pixel0000 to pixel0783** **create a collection of symptoms and their numerical representation (0-6)**"
      ],
      "metadata": {
        "id": "ma9Ea86SuK_O"
      }
    },
    {
      "cell_type": "code",
      "source": [
        "collections = { 0 : \"Actinic keratoses and intraepithelial carcinoma / Bowen's disease (akiec)\",\n",
        "               1 : \"basal cell carcinoma (bcc)\",\n",
        "                2 : \" benign keratosis-like lesions (solar lentigines / seborrheic keratoses and lichen-planus like keratoses, bkl)\",\n",
        "                3 : \"dermatofibroma (df)\",\n",
        "                4 : \"melanoma (mel)\",\n",
        "                5 : \"melanocytic nevi (nv)\",\n",
        "                6 : \"vascular lesions (angiomas, angiokeratomas, pyogenic granulomas and hemorrhage, vasc)\"}"
      ],
      "metadata": {
        "id": "F6zO-pXlyzeq"
      },
      "execution_count": 11,
      "outputs": []
    },
    {
      "cell_type": "code",
      "source": [
        "ds = pd.read_csv('/content/drive/MyDrive/cancer detection/hmnist_28_28_L.csv')"
      ],
      "metadata": {
        "id": "O9FyP-jyfRMT"
      },
      "execution_count": 12,
      "outputs": []
    },
    {
      "cell_type": "code",
      "source": [
        "ds.head()"
      ],
      "metadata": {
        "colab": {
          "base_uri": "https://localhost:8080/",
          "height": 299
        },
        "id": "g-n9dApLfaZX",
        "outputId": "6308a241-a2de-4fe0-edae-0c71ccc6a7ca"
      },
      "execution_count": 13,
      "outputs": [
        {
          "output_type": "execute_result",
          "data": {
            "text/plain": [
              "   pixel0000  pixel0001  pixel0002  pixel0003  pixel0004  pixel0005  \\\n",
              "0        169        171        170        177        181        182   \n",
              "1         19         57        105        140        149        148   \n",
              "2        155        163        161        167        167        172   \n",
              "3         25         71        116        139        136        153   \n",
              "4        129        162        181        196        205        208   \n",
              "\n",
              "   pixel0006  pixel0007  pixel0008  pixel0009  ...  pixel0775  pixel0776  \\\n",
              "0        181        185        194        192  ...        184        186   \n",
              "1        144        155        170        170  ...        172        175   \n",
              "2        155        152        165        175  ...        163        178   \n",
              "3        148        161        172        162  ...        125        135   \n",
              "4        205        213        225        224  ...        210        197   \n",
              "\n",
              "   pixel0777  pixel0778  pixel0779  pixel0780  pixel0781  pixel0782  \\\n",
              "0        185        180        157        140        140        159   \n",
              "1        160        144        114         89         47         18   \n",
              "2        157        166        167        148        141        136   \n",
              "3        138        137        111         71         32         16   \n",
              "4        172        190        195        193        181        147   \n",
              "\n",
              "   pixel0783  label  \n",
              "0        165      2  \n",
              "1         18      2  \n",
              "2        115      2  \n",
              "3         16      2  \n",
              "4         88      2  \n",
              "\n",
              "[5 rows x 785 columns]"
            ],
            "text/html": [
              "\n",
              "  <div id=\"df-81bf7198-1b5b-4847-bcab-98075488848e\">\n",
              "    <div class=\"colab-df-container\">\n",
              "      <div>\n",
              "<style scoped>\n",
              "    .dataframe tbody tr th:only-of-type {\n",
              "        vertical-align: middle;\n",
              "    }\n",
              "\n",
              "    .dataframe tbody tr th {\n",
              "        vertical-align: top;\n",
              "    }\n",
              "\n",
              "    .dataframe thead th {\n",
              "        text-align: right;\n",
              "    }\n",
              "</style>\n",
              "<table border=\"1\" class=\"dataframe\">\n",
              "  <thead>\n",
              "    <tr style=\"text-align: right;\">\n",
              "      <th></th>\n",
              "      <th>pixel0000</th>\n",
              "      <th>pixel0001</th>\n",
              "      <th>pixel0002</th>\n",
              "      <th>pixel0003</th>\n",
              "      <th>pixel0004</th>\n",
              "      <th>pixel0005</th>\n",
              "      <th>pixel0006</th>\n",
              "      <th>pixel0007</th>\n",
              "      <th>pixel0008</th>\n",
              "      <th>pixel0009</th>\n",
              "      <th>...</th>\n",
              "      <th>pixel0775</th>\n",
              "      <th>pixel0776</th>\n",
              "      <th>pixel0777</th>\n",
              "      <th>pixel0778</th>\n",
              "      <th>pixel0779</th>\n",
              "      <th>pixel0780</th>\n",
              "      <th>pixel0781</th>\n",
              "      <th>pixel0782</th>\n",
              "      <th>pixel0783</th>\n",
              "      <th>label</th>\n",
              "    </tr>\n",
              "  </thead>\n",
              "  <tbody>\n",
              "    <tr>\n",
              "      <th>0</th>\n",
              "      <td>169</td>\n",
              "      <td>171</td>\n",
              "      <td>170</td>\n",
              "      <td>177</td>\n",
              "      <td>181</td>\n",
              "      <td>182</td>\n",
              "      <td>181</td>\n",
              "      <td>185</td>\n",
              "      <td>194</td>\n",
              "      <td>192</td>\n",
              "      <td>...</td>\n",
              "      <td>184</td>\n",
              "      <td>186</td>\n",
              "      <td>185</td>\n",
              "      <td>180</td>\n",
              "      <td>157</td>\n",
              "      <td>140</td>\n",
              "      <td>140</td>\n",
              "      <td>159</td>\n",
              "      <td>165</td>\n",
              "      <td>2</td>\n",
              "    </tr>\n",
              "    <tr>\n",
              "      <th>1</th>\n",
              "      <td>19</td>\n",
              "      <td>57</td>\n",
              "      <td>105</td>\n",
              "      <td>140</td>\n",
              "      <td>149</td>\n",
              "      <td>148</td>\n",
              "      <td>144</td>\n",
              "      <td>155</td>\n",
              "      <td>170</td>\n",
              "      <td>170</td>\n",
              "      <td>...</td>\n",
              "      <td>172</td>\n",
              "      <td>175</td>\n",
              "      <td>160</td>\n",
              "      <td>144</td>\n",
              "      <td>114</td>\n",
              "      <td>89</td>\n",
              "      <td>47</td>\n",
              "      <td>18</td>\n",
              "      <td>18</td>\n",
              "      <td>2</td>\n",
              "    </tr>\n",
              "    <tr>\n",
              "      <th>2</th>\n",
              "      <td>155</td>\n",
              "      <td>163</td>\n",
              "      <td>161</td>\n",
              "      <td>167</td>\n",
              "      <td>167</td>\n",
              "      <td>172</td>\n",
              "      <td>155</td>\n",
              "      <td>152</td>\n",
              "      <td>165</td>\n",
              "      <td>175</td>\n",
              "      <td>...</td>\n",
              "      <td>163</td>\n",
              "      <td>178</td>\n",
              "      <td>157</td>\n",
              "      <td>166</td>\n",
              "      <td>167</td>\n",
              "      <td>148</td>\n",
              "      <td>141</td>\n",
              "      <td>136</td>\n",
              "      <td>115</td>\n",
              "      <td>2</td>\n",
              "    </tr>\n",
              "    <tr>\n",
              "      <th>3</th>\n",
              "      <td>25</td>\n",
              "      <td>71</td>\n",
              "      <td>116</td>\n",
              "      <td>139</td>\n",
              "      <td>136</td>\n",
              "      <td>153</td>\n",
              "      <td>148</td>\n",
              "      <td>161</td>\n",
              "      <td>172</td>\n",
              "      <td>162</td>\n",
              "      <td>...</td>\n",
              "      <td>125</td>\n",
              "      <td>135</td>\n",
              "      <td>138</td>\n",
              "      <td>137</td>\n",
              "      <td>111</td>\n",
              "      <td>71</td>\n",
              "      <td>32</td>\n",
              "      <td>16</td>\n",
              "      <td>16</td>\n",
              "      <td>2</td>\n",
              "    </tr>\n",
              "    <tr>\n",
              "      <th>4</th>\n",
              "      <td>129</td>\n",
              "      <td>162</td>\n",
              "      <td>181</td>\n",
              "      <td>196</td>\n",
              "      <td>205</td>\n",
              "      <td>208</td>\n",
              "      <td>205</td>\n",
              "      <td>213</td>\n",
              "      <td>225</td>\n",
              "      <td>224</td>\n",
              "      <td>...</td>\n",
              "      <td>210</td>\n",
              "      <td>197</td>\n",
              "      <td>172</td>\n",
              "      <td>190</td>\n",
              "      <td>195</td>\n",
              "      <td>193</td>\n",
              "      <td>181</td>\n",
              "      <td>147</td>\n",
              "      <td>88</td>\n",
              "      <td>2</td>\n",
              "    </tr>\n",
              "  </tbody>\n",
              "</table>\n",
              "<p>5 rows × 785 columns</p>\n",
              "</div>\n",
              "      <button class=\"colab-df-convert\" onclick=\"convertToInteractive('df-81bf7198-1b5b-4847-bcab-98075488848e')\"\n",
              "              title=\"Convert this dataframe to an interactive table.\"\n",
              "              style=\"display:none;\">\n",
              "        \n",
              "  <svg xmlns=\"http://www.w3.org/2000/svg\" height=\"24px\"viewBox=\"0 0 24 24\"\n",
              "       width=\"24px\">\n",
              "    <path d=\"M0 0h24v24H0V0z\" fill=\"none\"/>\n",
              "    <path d=\"M18.56 5.44l.94 2.06.94-2.06 2.06-.94-2.06-.94-.94-2.06-.94 2.06-2.06.94zm-11 1L8.5 8.5l.94-2.06 2.06-.94-2.06-.94L8.5 2.5l-.94 2.06-2.06.94zm10 10l.94 2.06.94-2.06 2.06-.94-2.06-.94-.94-2.06-.94 2.06-2.06.94z\"/><path d=\"M17.41 7.96l-1.37-1.37c-.4-.4-.92-.59-1.43-.59-.52 0-1.04.2-1.43.59L10.3 9.45l-7.72 7.72c-.78.78-.78 2.05 0 2.83L4 21.41c.39.39.9.59 1.41.59.51 0 1.02-.2 1.41-.59l7.78-7.78 2.81-2.81c.8-.78.8-2.07 0-2.86zM5.41 20L4 18.59l7.72-7.72 1.47 1.35L5.41 20z\"/>\n",
              "  </svg>\n",
              "      </button>\n",
              "      \n",
              "  <style>\n",
              "    .colab-df-container {\n",
              "      display:flex;\n",
              "      flex-wrap:wrap;\n",
              "      gap: 12px;\n",
              "    }\n",
              "\n",
              "    .colab-df-convert {\n",
              "      background-color: #E8F0FE;\n",
              "      border: none;\n",
              "      border-radius: 50%;\n",
              "      cursor: pointer;\n",
              "      display: none;\n",
              "      fill: #1967D2;\n",
              "      height: 32px;\n",
              "      padding: 0 0 0 0;\n",
              "      width: 32px;\n",
              "    }\n",
              "\n",
              "    .colab-df-convert:hover {\n",
              "      background-color: #E2EBFA;\n",
              "      box-shadow: 0px 1px 2px rgba(60, 64, 67, 0.3), 0px 1px 3px 1px rgba(60, 64, 67, 0.15);\n",
              "      fill: #174EA6;\n",
              "    }\n",
              "\n",
              "    [theme=dark] .colab-df-convert {\n",
              "      background-color: #3B4455;\n",
              "      fill: #D2E3FC;\n",
              "    }\n",
              "\n",
              "    [theme=dark] .colab-df-convert:hover {\n",
              "      background-color: #434B5C;\n",
              "      box-shadow: 0px 1px 3px 1px rgba(0, 0, 0, 0.15);\n",
              "      filter: drop-shadow(0px 1px 2px rgba(0, 0, 0, 0.3));\n",
              "      fill: #FFFFFF;\n",
              "    }\n",
              "  </style>\n",
              "\n",
              "      <script>\n",
              "        const buttonEl =\n",
              "          document.querySelector('#df-81bf7198-1b5b-4847-bcab-98075488848e button.colab-df-convert');\n",
              "        buttonEl.style.display =\n",
              "          google.colab.kernel.accessAllowed ? 'block' : 'none';\n",
              "\n",
              "        async function convertToInteractive(key) {\n",
              "          const element = document.querySelector('#df-81bf7198-1b5b-4847-bcab-98075488848e');\n",
              "          const dataTable =\n",
              "            await google.colab.kernel.invokeFunction('convertToInteractive',\n",
              "                                                     [key], {});\n",
              "          if (!dataTable) return;\n",
              "\n",
              "          const docLinkHtml = 'Like what you see? Visit the ' +\n",
              "            '<a target=\"_blank\" href=https://colab.research.google.com/notebooks/data_table.ipynb>data table notebook</a>'\n",
              "            + ' to learn more about interactive tables.';\n",
              "          element.innerHTML = '';\n",
              "          dataTable['output_type'] = 'display_data';\n",
              "          await google.colab.output.renderOutput(dataTable, element);\n",
              "          const docLink = document.createElement('div');\n",
              "          docLink.innerHTML = docLinkHtml;\n",
              "          element.appendChild(docLink);\n",
              "        }\n",
              "      </script>\n",
              "    </div>\n",
              "  </div>\n",
              "  "
            ]
          },
          "metadata": {},
          "execution_count": 13
        }
      ]
    },
    {
      "cell_type": "markdown",
      "source": [
        "**Check for any null values and the number of images belonging to each class**"
      ],
      "metadata": {
        "id": "xcVUYm28u09A"
      }
    },
    {
      "cell_type": "code",
      "source": [
        "ds['label'].value_counts()"
      ],
      "metadata": {
        "colab": {
          "base_uri": "https://localhost:8080/"
        },
        "id": "uEbca-5zfa6H",
        "outputId": "48a903a7-e244-406c-fc61-95d1b79cb02d"
      },
      "execution_count": 14,
      "outputs": [
        {
          "output_type": "execute_result",
          "data": {
            "text/plain": [
              "4    6705\n",
              "6    1113\n",
              "2    1099\n",
              "1     514\n",
              "0     327\n",
              "5     142\n",
              "3     115\n",
              "Name: label, dtype: int64"
            ]
          },
          "metadata": {},
          "execution_count": 14
        }
      ]
    },
    {
      "cell_type": "code",
      "source": [
        "ds.isnull().sum()"
      ],
      "metadata": {
        "id": "EwBUf2YXffda",
        "colab": {
          "base_uri": "https://localhost:8080/"
        },
        "outputId": "d7e9f50d-2c71-46f1-d2aa-fa33b33bc39a"
      },
      "execution_count": 15,
      "outputs": [
        {
          "output_type": "execute_result",
          "data": {
            "text/plain": [
              "pixel0000    0\n",
              "pixel0001    0\n",
              "pixel0002    0\n",
              "pixel0003    0\n",
              "pixel0004    0\n",
              "            ..\n",
              "pixel0780    0\n",
              "pixel0781    0\n",
              "pixel0782    0\n",
              "pixel0783    0\n",
              "label        0\n",
              "Length: 785, dtype: int64"
            ]
          },
          "metadata": {},
          "execution_count": 15
        }
      ]
    },
    {
      "cell_type": "markdown",
      "source": [
        "**plot the first 5 images and their corresponding classes**"
      ],
      "metadata": {
        "id": "dpEr2ymSvHlY"
      }
    },
    {
      "cell_type": "code",
      "source": [
        "for i in range(0, 5):\n",
        "  df_arr = ds.iloc[i,:-1].values.reshape(28,28)\n",
        "  plt.imshow(df_arr, cmap='Blues')\n",
        "  plt.axis('off')\n",
        "  plt.show()"
      ],
      "metadata": {
        "id": "cTtt9bw0vEhS",
        "colab": {
          "base_uri": "https://localhost:8080/",
          "height": 1000
        },
        "outputId": "6155a043-da07-4910-9f04-ca2b76cf50ef"
      },
      "execution_count": 16,
      "outputs": [
        {
          "output_type": "display_data",
          "data": {
            "text/plain": [
              "<Figure size 640x480 with 1 Axes>"
            ],
            "image/png": "[encoded data removed]"
          },
          "metadata": {}
        },
        {
          "output_type": "display_data",
          "data": {
            "text/plain": [
              "<Figure size 640x480 with 1 Axes>"
            ],
            "image/png": "[encoded data removed]"
          },
          "metadata": {}
        },
        {
          "output_type": "display_data",
          "data": {
            "text/plain": [
              "<Figure size 640x480 with 1 Axes>"
            ],
            "image/png": "[encoded data removed]"
          },
          "metadata": {}
        },
        {
          "output_type": "display_data",
          "data": {
            "text/plain": [
              "<Figure size 640x480 with 1 Axes>"
            ],
            "image/png": "[encoded data removed]"
          },
          "metadata": {}
        },
        {
          "output_type": "display_data",
          "data": {
            "text/plain": [
              "<Figure size 640x480 with 1 Axes>"
            ],
            "image/png": "[encoded data removed]"
          },
          "metadata": {}
        }
      ]
    },
    {
      "cell_type": "markdown",
      "source": [
        "**Seperate the dataframe as X and y** **X stands for features y for labels**"
      ],
      "metadata": {
        "id": "aYM9pC2211zz"
      }
    },
    {
      "cell_type": "code",
      "source": [
        "X = ds.drop('label', axis=1)\n",
        "y=ds['label']"
      ],
      "metadata": {
        "id": "HigqeNrki3Sh"
      },
      "execution_count": 17,
      "outputs": []
    },
    {
      "cell_type": "markdown",
      "source": [
        "**Use SMOTE-Tomeklinks methods combined to balance the imbalanced data. The resulting data will have each 7 classes with 6705 examples.  For SMOTE all minority classes develop synthetic examples and for tomeklinks we use 'Not Majority' where all classes except majority classes are resampled**"
      ],
      "metadata": {
        "id": "bpQv3abc2E2U"
      }
    },
    {
      "cell_type": "code",
      "source": [
        "resample = SMOTETomek(tomek=TomekLinks(sampling_strategy='not majority'))\n",
        "X, y = resample.fit_resample(X, y)"
      ],
      "metadata": {
        "id": "WIicMUKTWsiY"
      },
      "execution_count": 18,
      "outputs": []
    },
    {
      "cell_type": "markdown",
      "source": [
        "**We standardise the feature-set of all pixel for accurate values using StandardScaler method**"
      ],
      "metadata": {
        "id": "vjb66gSK3AAD"
      }
    },
    {
      "cell_type": "code",
      "source": [
        "scl=StandardScaler()\n",
        "X_std = scl.fit_transform(X)"
      ],
      "metadata": {
        "id": "Znq211IuYcdV"
      },
      "execution_count": 19,
      "outputs": []
    },
    {
      "cell_type": "markdown",
      "source": [
        "**Finally we reshape the array to fit the dimension of the CNN to be created this completes our data collection and preprocessing.**"
      ],
      "metadata": {
        "id": "dCFkQkdi3Mkt"
      }
    },
    {
      "cell_type": "code",
      "source": [
        "#reshaping X_std for CNN\n",
        "X_std = np.array(X_std)\n",
        "X=X_std.reshape(-1, 28, 28, 1)\n",
        "print(X.shape)\n",
        "print(y.value_counts())"
      ],
      "metadata": {
        "colab": {
          "base_uri": "https://localhost:8080/"
        },
        "id": "Qd530zSXZTlF",
        "outputId": "250f0555-3031-4f2d-fe8f-1b8a91fc3619"
      },
      "execution_count": 20,
      "outputs": [
        {
          "output_type": "stream",
          "name": "stdout",
          "text": [
            "(46933, 28, 28, 1)\n",
            "2    6705\n",
            "3    6705\n",
            "5    6705\n",
            "1    6705\n",
            "0    6705\n",
            "4    6704\n",
            "6    6704\n",
            "Name: label, dtype: int64\n"
          ]
        }
      ]
    },
    {
      "cell_type": "markdown",
      "source": [
        "**Splitting data into train and test samples**"
      ],
      "metadata": {
        "id": "ZnaAZiGu3b8W"
      }
    },
    {
      "cell_type": "code",
      "source": [
        "X_train, X_test, y_train, y_test = train_test_split(X, y, test_size=0.25, random_state=10)"
      ],
      "metadata": {
        "id": "PQqKaNuBbhcd"
      },
      "execution_count": 21,
      "outputs": []
    },
    {
      "cell_type": "markdown",
      "source": [
        "**Determine class-weights of each class by using inverse frequency method, I did not use them in end as more accurate results were recieved from SMOTE-Tomeklink data.**"
      ],
      "metadata": {
        "id": "25uOsEcW3v4J"
      }
    },
    {
      "cell_type": "code",
      "source": [
        "class_frequencies = np.bincount(y_train)\n",
        "print(class_frequencies)\n",
        "inverse_class_frequencies = 1.0/np.sqrt(class_frequencies)\n",
        "class_weights = inverse_class_frequencies/np.sum(inverse_class_frequencies)\n",
        "class_weights = dict(enumerate(class_weights))\n",
        "print('class weights are: ', class_weights)"
      ],
      "metadata": {
        "colab": {
          "base_uri": "https://localhost:8080/"
        },
        "id": "SBaIu5WNucKW",
        "outputId": "648703d7-7a1b-4246-ff21-bbd868eae216"
      },
      "execution_count": 22,
      "outputs": [
        {
          "output_type": "stream",
          "name": "stdout",
          "text": [
            "[5044 5023 5014 5063 5038 4976 5041]\n",
            "class weights are:  {0: 0.1426350464531887, 1: 0.14293289751841748, 2: 0.14306112042759864, 3: 0.14236716049710818, 4: 0.14271995669770868, 5: 0.14360633577995008, 6: 0.1426774826260282}\n"
          ]
        }
      ]
    },
    {
      "cell_type": "markdown",
      "source": [
        "**Calculated sample weights for a better accuracy for each class**"
      ],
      "metadata": {
        "id": "KAFcmknZ9sFx"
      }
    },
    {
      "cell_type": "code",
      "source": [
        "class_labels = np.unique(y_train)\n",
        "y_train_int = np.array([np.where(class_labels == label)[0][0] for label in y_train])\n",
        "sample_weights = compute_sample_weight(class_weight=class_weights, y=y_train_int)\n",
        "print(sample_weights)"
      ],
      "metadata": {
        "colab": {
          "base_uri": "https://localhost:8080/"
        },
        "id": "ABtoIMgq9szI",
        "outputId": "0b73fa40-9089-400e-8b93-c035940d51a8"
      },
      "execution_count": 23,
      "outputs": [
        {
          "output_type": "stream",
          "name": "stdout",
          "text": [
            "[0.1429329  0.14360634 0.14271996 ... 0.14236716 0.14360634 0.1429329 ]\n"
          ]
        }
      ]
    },
    {
      "cell_type": "markdown",
      "source": [
        "**Below code is the Convolutional Neural Network Architecture code, It starts with 16 filters and ends at 128 filters, The dense layer has more or less same units of neurons per layer. Dense and Convolutional are joined by averagepooling layer which gives a global output to ANN of the image. I added dropout layers with 20% dropout probability which reduces overfitting at very high-levels, regularizations didn't work well here, hence I used dropouts.**"
      ],
      "metadata": {
        "id": "rY8w0ZYV4Hrd"
      }
    },
    {
      "cell_type": "code",
      "source": [
        "inputs = Input(shape=(28, 28, 1), name='input')\n",
        "\n",
        "\n",
        "conv1 = Conv2D(filters=16, kernel_size=(2,2), name='conv1', padding='same', strides=(1,1))(inputs)\n",
        "maxpool1 = MaxPooling2D(pool_size=(2,2), name='maxpool1')(conv1)\n",
        "\n",
        "conv2 = Conv2D(filters=32, kernel_size=(2,2), name='conv2', padding='same', strides=(1,1))(maxpool1)\n",
        "maxpool2 = MaxPooling2D(pool_size=(2,2), name='maxpool2')(conv2)\n",
        "\n",
        "conv3 = Conv2D(filters=64, kernel_size=(2,2), name='conv3', padding='same', strides=(1,1))(maxpool2)\n",
        "maxpool3 = MaxPooling2D(pool_size=(2,2), name='maxpool3')(conv3)\n",
        "\n",
        "conv4 = Conv2D(filters=128, kernel_size=(2,2), name='conv4',padding='same', strides=(1, 1))(maxpool3)\n",
        "maxpool4 = MaxPooling2D( name='maxpool4')(conv4)\n",
        "\n",
        "\n",
        "avgpool = GlobalAveragePooling2D(name='avgpool')(maxpool4)\n",
        "\n",
        "\n",
        "dense1 = Dense(128, activation='relu', name='dense1')(avgpool)\n",
        "dropout1 = Dropout(0.2)(dense1)\n",
        "\n",
        "dense2 = Dense(64, activation='relu', name='dense2')(dropout1)\n",
        "dropout2 = Dropout(0.2)(dense2)\n",
        "\n",
        "dense3 = Dense(32,  activation = 'relu', name='dense3')(dropout2)\n",
        "dropout3 = Dropout(0.2)(dense3)\n",
        "\n",
        "outputs = Dense(7, activation='softmax', name='output')(dropout3)\n",
        "\n",
        "model = Model(inputs=inputs, outputs=outputs)\n",
        "model.summary()\n",
        "keras.utils.plot_model(model)"
      ],
      "metadata": {
        "colab": {
          "base_uri": "https://localhost:8080/",
          "height": 1000
        },
        "id": "lI0v9-BoaIBz",
        "outputId": "80450568-710f-45d9-df20-43f47d984b5d"
      },
      "execution_count": 24,
      "outputs": [
        {
          "output_type": "stream",
          "name": "stdout",
          "text": [
            "Model: \"model\"\n",
            "_________________________________________________________________\n",
            " Layer (type)                Output Shape              Param #   \n",
            "=================================================================\n",
            " input (InputLayer)          [(None, 28, 28, 1)]       0         \n",
            "                                                                 \n",
            " conv1 (Conv2D)              (None, 28, 28, 16)        80        \n",
            "                                                                 \n",
            " maxpool1 (MaxPooling2D)     (None, 14, 14, 16)        0         \n",
            "                                                                 \n",
            " conv2 (Conv2D)              (None, 14, 14, 32)        2080      \n",
            "                                                                 \n",
            " maxpool2 (MaxPooling2D)     (None, 7, 7, 32)          0         \n",
            "                                                                 \n",
            " conv3 (Conv2D)              (None, 7, 7, 64)          8256      \n",
            "                                                                 \n",
            " maxpool3 (MaxPooling2D)     (None, 3, 3, 64)          0         \n",
            "                                                                 \n",
            " conv4 (Conv2D)              (None, 3, 3, 128)         32896     \n",
            "                                                                 \n",
            " maxpool4 (MaxPooling2D)     (None, 1, 1, 128)         0         \n",
            "                                                                 \n",
            " avgpool (GlobalAveragePooli  (None, 128)              0         \n",
            " ng2D)                                                           \n",
            "                                                                 \n",
            " dense1 (Dense)              (None, 128)               16512     \n",
            "                                                                 \n",
            " dropout (Dropout)           (None, 128)               0         \n",
            "                                                                 \n",
            " dense2 (Dense)              (None, 64)                8256      \n",
            "                                                                 \n",
            " dropout_1 (Dropout)         (None, 64)                0         \n",
            "                                                                 \n",
            " dense3 (Dense)              (None, 32)                2080      \n",
            "                                                                 \n",
            " dropout_2 (Dropout)         (None, 32)                0         \n",
            "                                                                 \n",
            " output (Dense)              (None, 7)                 231       \n",
            "                                                                 \n",
            "=================================================================\n",
            "Total params: 70,391\n",
            "Trainable params: 70,391\n",
            "Non-trainable params: 0\n",
            "_________________________________________________________________\n"
          ]
        },
        {
          "output_type": "execute_result",
          "data": {
            "image/png": "[encoded data removed]",
            "text/plain": [
              "<IPython.core.display.Image object>"
            ]
          },
          "metadata": {},
          "execution_count": 24
        }
      ]
    },
    {
      "cell_type": "markdown",
      "source": [
        "**Compile the model with Adam as the optimizer and a fixed learning rate (0.001)loss function used is sparse categorical crossentropy as it is a Multiclass Calssification, metrics are accuracy as it is simple to use**"
      ],
      "metadata": {
        "id": "GhQy42VE5wxD"
      }
    },
    {
      "cell_type": "code",
      "source": [
        "model.compile(optimizer=Adam(learning_rate=0.001), loss='sparse_categorical_crossentropy', metrics=['accuracy'], weighted_metrics=[])"
      ],
      "metadata": {
        "id": "vog7zAGygRQ5"
      },
      "execution_count": 25,
      "outputs": []
    },
    {
      "cell_type": "markdown",
      "source": [
        "**I wanted the best trained model hence I used EarlyStopping technique, as the dataset contains 10,015 images it is a lot of data and for each epoch the validation loss or loss calculated on validation set, shouldn't be too far of the training loss. It also restores best weights i.e. weightss that give least loss.**"
      ],
      "metadata": {
        "id": "m16SL_KC6G6B"
      }
    },
    {
      "cell_type": "code",
      "source": [
        "model_history = model.fit(X_train, y_train, batch_size=32, epochs=50, validation_split=0.2, callbacks=EarlyStopping(monitor='val_loss', patience=10, restore_best_weights=True))"
      ],
      "metadata": {
        "colab": {
          "base_uri": "https://localhost:8080/"
        },
        "id": "CbFYlmX0hb4h",
        "outputId": "e8d5cb71-e0d3-4c4c-a849-8b4c0162836a"
      },
      "execution_count": 26,
      "outputs": [
        {
          "output_type": "stream",
          "name": "stdout",
          "text": [
            "Epoch 1/50\n",
            "880/880 [==============================] - 15s 7ms/step - loss: 1.4873 - accuracy: 0.4108 - val_loss: 1.0812 - val_accuracy: 0.5892\n",
            "Epoch 2/50\n",
            "880/880 [==============================] - 4s 5ms/step - loss: 0.9599 - accuracy: 0.6389 - val_loss: 0.7184 - val_accuracy: 0.7303\n",
            "Epoch 3/50\n",
            "880/880 [==============================] - 4s 5ms/step - loss: 0.7156 - accuracy: 0.7296 - val_loss: 0.6323 - val_accuracy: 0.7490\n",
            "Epoch 4/50\n",
            "880/880 [==============================] - 6s 6ms/step - loss: 0.5856 - accuracy: 0.7773 - val_loss: 0.4732 - val_accuracy: 0.8152\n",
            "Epoch 5/50\n",
            "880/880 [==============================] - 4s 5ms/step - loss: 0.5034 - accuracy: 0.8089 - val_loss: 0.4146 - val_accuracy: 0.8379\n",
            "Epoch 6/50\n",
            "880/880 [==============================] - 4s 5ms/step - loss: 0.4475 - accuracy: 0.8293 - val_loss: 0.4227 - val_accuracy: 0.8405\n",
            "Epoch 7/50\n",
            "880/880 [==============================] - 6s 7ms/step - loss: 0.4002 - accuracy: 0.8499 - val_loss: 0.3513 - val_accuracy: 0.8690\n",
            "Epoch 8/50\n",
            "880/880 [==============================] - 4s 5ms/step - loss: 0.3640 - accuracy: 0.8654 - val_loss: 0.3297 - val_accuracy: 0.8764\n",
            "Epoch 9/50\n",
            "880/880 [==============================] - 5s 5ms/step - loss: 0.3340 - accuracy: 0.8756 - val_loss: 0.3159 - val_accuracy: 0.8847\n",
            "Epoch 10/50\n",
            "880/880 [==============================] - 5s 6ms/step - loss: 0.3047 - accuracy: 0.8863 - val_loss: 0.3057 - val_accuracy: 0.8866\n",
            "Epoch 11/50\n",
            "880/880 [==============================] - 4s 5ms/step - loss: 0.2812 - accuracy: 0.8979 - val_loss: 0.3035 - val_accuracy: 0.8879\n",
            "Epoch 12/50\n",
            "880/880 [==============================] - 4s 5ms/step - loss: 0.2534 - accuracy: 0.9086 - val_loss: 0.3428 - val_accuracy: 0.8767\n",
            "Epoch 13/50\n",
            "880/880 [==============================] - 5s 6ms/step - loss: 0.2399 - accuracy: 0.9126 - val_loss: 0.2949 - val_accuracy: 0.8932\n",
            "Epoch 14/50\n",
            "880/880 [==============================] - 4s 5ms/step - loss: 0.2287 - accuracy: 0.9184 - val_loss: 0.2777 - val_accuracy: 0.8990\n",
            "Epoch 15/50\n",
            "880/880 [==============================] - 5s 5ms/step - loss: 0.2139 - accuracy: 0.9237 - val_loss: 0.2986 - val_accuracy: 0.8955\n",
            "Epoch 16/50\n",
            "880/880 [==============================] - 5s 6ms/step - loss: 0.1933 - accuracy: 0.9310 - val_loss: 0.2944 - val_accuracy: 0.8990\n",
            "Epoch 17/50\n",
            "880/880 [==============================] - 4s 5ms/step - loss: 0.1865 - accuracy: 0.9352 - val_loss: 0.2975 - val_accuracy: 0.8984\n",
            "Epoch 18/50\n",
            "880/880 [==============================] - 5s 6ms/step - loss: 0.1769 - accuracy: 0.9389 - val_loss: 0.2622 - val_accuracy: 0.9132\n",
            "Epoch 19/50\n",
            "880/880 [==============================] - 5s 5ms/step - loss: 0.1737 - accuracy: 0.9406 - val_loss: 0.2694 - val_accuracy: 0.9077\n",
            "Epoch 20/50\n",
            "880/880 [==============================] - 4s 5ms/step - loss: 0.1623 - accuracy: 0.9443 - val_loss: 0.3238 - val_accuracy: 0.8990\n",
            "Epoch 21/50\n",
            "880/880 [==============================] - 5s 6ms/step - loss: 0.1486 - accuracy: 0.9480 - val_loss: 0.2723 - val_accuracy: 0.9118\n",
            "Epoch 22/50\n",
            "880/880 [==============================] - 4s 5ms/step - loss: 0.1496 - accuracy: 0.9493 - val_loss: 0.3148 - val_accuracy: 0.9031\n",
            "Epoch 23/50\n",
            "880/880 [==============================] - 4s 5ms/step - loss: 0.1446 - accuracy: 0.9506 - val_loss: 0.3249 - val_accuracy: 0.9091\n",
            "Epoch 24/50\n",
            "880/880 [==============================] - 5s 6ms/step - loss: 0.1412 - accuracy: 0.9515 - val_loss: 0.2616 - val_accuracy: 0.9148\n",
            "Epoch 25/50\n",
            "880/880 [==============================] - 4s 5ms/step - loss: 0.1293 - accuracy: 0.9566 - val_loss: 0.2782 - val_accuracy: 0.9196\n",
            "Epoch 26/50\n",
            "880/880 [==============================] - 4s 5ms/step - loss: 0.1320 - accuracy: 0.9570 - val_loss: 0.3040 - val_accuracy: 0.9128\n",
            "Epoch 27/50\n",
            "880/880 [==============================] - 5s 6ms/step - loss: 0.1119 - accuracy: 0.9617 - val_loss: 0.2599 - val_accuracy: 0.9216\n",
            "Epoch 28/50\n",
            "880/880 [==============================] - 4s 5ms/step - loss: 0.1177 - accuracy: 0.9605 - val_loss: 0.4155 - val_accuracy: 0.8935\n",
            "Epoch 29/50\n",
            "880/880 [==============================] - 6s 7ms/step - loss: 0.1097 - accuracy: 0.9643 - val_loss: 0.2804 - val_accuracy: 0.9220\n",
            "Epoch 30/50\n",
            "880/880 [==============================] - 8s 9ms/step - loss: 0.1183 - accuracy: 0.9610 - val_loss: 0.2987 - val_accuracy: 0.9152\n",
            "Epoch 31/50\n",
            "880/880 [==============================] - 6s 7ms/step - loss: 0.1116 - accuracy: 0.9631 - val_loss: 0.2561 - val_accuracy: 0.9281\n",
            "Epoch 32/50\n",
            "880/880 [==============================] - 6s 6ms/step - loss: 0.1098 - accuracy: 0.9631 - val_loss: 0.2528 - val_accuracy: 0.9268\n",
            "Epoch 33/50\n",
            "880/880 [==============================] - 4s 5ms/step - loss: 0.0973 - accuracy: 0.9678 - val_loss: 0.2743 - val_accuracy: 0.9288\n",
            "Epoch 34/50\n",
            "880/880 [==============================] - 4s 5ms/step - loss: 0.1034 - accuracy: 0.9666 - val_loss: 0.2726 - val_accuracy: 0.9241\n",
            "Epoch 35/50\n",
            "880/880 [==============================] - 5s 6ms/step - loss: 0.0982 - accuracy: 0.9693 - val_loss: 0.2901 - val_accuracy: 0.9249\n",
            "Epoch 36/50\n",
            "880/880 [==============================] - 4s 5ms/step - loss: 0.0886 - accuracy: 0.9710 - val_loss: 0.3027 - val_accuracy: 0.9202\n",
            "Epoch 37/50\n",
            "880/880 [==============================] - 5s 5ms/step - loss: 0.0944 - accuracy: 0.9698 - val_loss: 0.3163 - val_accuracy: 0.9224\n",
            "Epoch 38/50\n",
            "880/880 [==============================] - 5s 6ms/step - loss: 0.0894 - accuracy: 0.9719 - val_loss: 0.2889 - val_accuracy: 0.9247\n",
            "Epoch 39/50\n",
            "880/880 [==============================] - 4s 5ms/step - loss: 0.0886 - accuracy: 0.9707 - val_loss: 0.3794 - val_accuracy: 0.9014\n",
            "Epoch 40/50\n",
            "880/880 [==============================] - 4s 5ms/step - loss: 0.0870 - accuracy: 0.9720 - val_loss: 0.3335 - val_accuracy: 0.9146\n",
            "Epoch 41/50\n",
            "880/880 [==============================] - 5s 6ms/step - loss: 0.0844 - accuracy: 0.9735 - val_loss: 0.3029 - val_accuracy: 0.9213\n",
            "Epoch 42/50\n",
            "880/880 [==============================] - 4s 5ms/step - loss: 0.0736 - accuracy: 0.9757 - val_loss: 0.2909 - val_accuracy: 0.9223\n"
          ]
        }
      ]
    },
    {
      "cell_type": "markdown",
      "source": [
        "**Plot of Accuracy of the model training**"
      ],
      "metadata": {
        "id": "I2rhlCar63-6"
      }
    },
    {
      "cell_type": "code",
      "source": [
        "plt.plot(model_history.history['accuracy'])\n",
        "plt.plot(model_history.history['val_accuracy'])\n",
        "plt.title('Accuracy of Model')\n",
        "plt.xlabel('Epochs')\n",
        "plt.ylabel('Accuracy')\n",
        "plt.legend(['train acc', 'val acc'], loc='upper left')\n",
        "plt.plot()"
      ],
      "metadata": {
        "colab": {
          "base_uri": "https://localhost:8080/",
          "height": 489
        },
        "id": "xlMwD7--iFp_",
        "outputId": "de22c9f5-d5f8-4336-c279-c49ac596050e"
      },
      "execution_count": 27,
      "outputs": [
        {
          "output_type": "execute_result",
          "data": {
            "text/plain": [
              "[]"
            ]
          },
          "metadata": {},
          "execution_count": 27
        },
        {
          "output_type": "display_data",
          "data": {
            "text/plain": [
              "<Figure size 640x480 with 1 Axes>"
            ],
            "image/png": "[encoded data removed]"
          },
          "metadata": {}
        }
      ]
    },
    {
      "cell_type": "markdown",
      "source": [
        "**Plot of Loss during training time**"
      ],
      "metadata": {
        "id": "UqpRhQ1B7AiJ"
      }
    },
    {
      "cell_type": "code",
      "source": [
        "plt.plot(model_history.history['loss'])\n",
        "plt.plot(model_history.history['val_loss'])\n",
        "plt.title('Loss of Model')\n",
        "plt.xlabel('Epochs')\n",
        "plt.ylabel('Loss')\n",
        "plt.legend(['train loss', 'val loss'], loc='upper left')\n",
        "plt.plot()"
      ],
      "metadata": {
        "colab": {
          "base_uri": "https://localhost:8080/",
          "height": 489
        },
        "id": "dp7kYOjki0mr",
        "outputId": "3b2cf787-72f8-49dd-d1c4-7e55fc6986ce"
      },
      "execution_count": 28,
      "outputs": [
        {
          "output_type": "execute_result",
          "data": {
            "text/plain": [
              "[]"
            ]
          },
          "metadata": {},
          "execution_count": 28
        },
        {
          "output_type": "display_data",
          "data": {
            "text/plain": [
              "<Figure size 640x480 with 1 Axes>"
            ],
            "image/png": "[encoded data removed]"
          },
          "metadata": {}
        }
      ]
    },
    {
      "cell_type": "markdown",
      "source": [
        "**We test the model using X_test set**"
      ],
      "metadata": {
        "id": "dwY4LeMb7JZo"
      }
    },
    {
      "cell_type": "code",
      "source": [
        "x_pred = model.predict(X_test)"
      ],
      "metadata": {
        "colab": {
          "base_uri": "https://localhost:8080/"
        },
        "id": "MUl2SbDsjIs_",
        "outputId": "b7c14218-e3fc-4f4f-cdc8-ebd9d2931dd0"
      },
      "execution_count": 29,
      "outputs": [
        {
          "output_type": "stream",
          "name": "stdout",
          "text": [
            "367/367 [==============================] - 1s 2ms/step\n"
          ]
        }
      ]
    },
    {
      "cell_type": "markdown",
      "source": [
        "**Each of the 367 image gave a vector of size 7 we use np.argmax() method to get the index of the highest value, which is inturn the predicted class of the image with highest probability. **"
      ],
      "metadata": {
        "id": "C7RugbWO7U3r"
      }
    },
    {
      "cell_type": "code",
      "source": [
        "x_pred = np.argmax(x_pred, axis=-1)"
      ],
      "metadata": {
        "id": "eI6etmV-jUo7"
      },
      "execution_count": 30,
      "outputs": []
    },
    {
      "cell_type": "markdown",
      "source": [
        "**We find the accuracy of the model by comparing it to y_test, we also find the confusion matrix and classification reports**\n",
        "\n"
      ],
      "metadata": {
        "id": "Iif8cIim8BjR"
      }
    },
    {
      "cell_type": "code",
      "source": [
        "print('Accuracy of the model is:- ', accuracy_score(x_pred, y_test))"
      ],
      "metadata": {
        "colab": {
          "base_uri": "https://localhost:8080/"
        },
        "id": "rwetrFFWja85",
        "outputId": "0b9c9b6c-8497-4683-bd15-e29f574e2667"
      },
      "execution_count": 31,
      "outputs": [
        {
          "output_type": "stream",
          "name": "stdout",
          "text": [
            "Accuracy of the model is:-  0.9238963695244589\n"
          ]
        }
      ]
    },
    {
      "cell_type": "code",
      "source": [
        "print('confusion matrix:-')\n",
        "confusion_matrix(y_test, x_pred)"
      ],
      "metadata": {
        "colab": {
          "base_uri": "https://localhost:8080/"
        },
        "id": "eXeoxglqjzJL",
        "outputId": "ef9277f0-b01e-4b85-853e-64e9be85ccaf"
      },
      "execution_count": 32,
      "outputs": [
        {
          "output_type": "stream",
          "name": "stdout",
          "text": [
            "confusion matrix:-\n"
          ]
        },
        {
          "output_type": "execute_result",
          "data": {
            "text/plain": [
              "array([[1645,    7,    5,    0,    4,    0,    0],\n",
              "       [  12, 1633,   10,    9,   16,    1,    1],\n",
              "       [  19,   15, 1529,    3,   65,    2,   58],\n",
              "       [   0,    0,    1, 1641,    0,    0,    0],\n",
              "       [  14,   63,  131,   10, 1185,   50,  213],\n",
              "       [   0,    0,    2,    0,    4, 1723,    0],\n",
              "       [   7,    4,   47,    2,  118,    0, 1485]])"
            ]
          },
          "metadata": {},
          "execution_count": 32
        }
      ]
    },
    {
      "cell_type": "markdown",
      "source": [
        "**The plotted confusion matrix shows the dark blue diagonal pattern, each box in (0, 0) to (6,6) represents the True positive predictions, rest show the TN, FP, FN in each of the other boxes**"
      ],
      "metadata": {
        "id": "T1Wloxzp8UPu"
      }
    },
    {
      "cell_type": "code",
      "source": [
        "plt.figure(figsize=(6,6))\n",
        "sns.heatmap(confusion_matrix(y_test, x_pred), annot=True, fmt='g', vmin=0, cbar=False, cmap='Blues')\n",
        "plt.show()"
      ],
      "metadata": {
        "colab": {
          "base_uri": "https://localhost:8080/",
          "height": 522
        },
        "id": "i2HMPAIij_Rd",
        "outputId": "1e67ccd2-8e91-4b7a-b36d-6a482b96037e"
      },
      "execution_count": 33,
      "outputs": [
        {
          "output_type": "display_data",
          "data": {
            "text/plain": [
              "<Figure size 600x600 with 1 Axes>"
            ],
            "image/png": "[encoded data removed]"
          },
          "metadata": {}
        }
      ]
    },
    {
      "cell_type": "markdown",
      "source": [
        "**From the classification report we can conclude that class 4 i.e. \"melanoma (mel)\" has lowest accuracy and precision score which means model cannot predict it as good as others. Class 4 or Melanoma examples were highest in the initial dataset, but to compensate for lack of other classes the Tomek-link algorithm applied on it removed some of the outliers, which are important in medical diagnosis classification. Hence we get all the other classes with high accuracy and one with little less accuracy.**\n",
        "\n",
        "\n"
      ],
      "metadata": {
        "id": "R3SLXhPW8717"
      }
    },
    {
      "cell_type": "code",
      "source": [
        "print('classification report :-')\n",
        "print(classification_report(y_test, x_pred))"
      ],
      "metadata": {
        "colab": {
          "base_uri": "https://localhost:8080/"
        },
        "id": "USfawPsakoUr",
        "outputId": "399385e4-592b-451e-ac1c-49e17f33e8c3"
      },
      "execution_count": 34,
      "outputs": [
        {
          "output_type": "stream",
          "name": "stdout",
          "text": [
            "classification report :-\n",
            "              precision    recall  f1-score   support\n",
            "\n",
            "           0       0.97      0.99      0.98      1661\n",
            "           1       0.95      0.97      0.96      1682\n",
            "           2       0.89      0.90      0.90      1691\n",
            "           3       0.99      1.00      0.99      1642\n",
            "           4       0.85      0.71      0.78      1666\n",
            "           5       0.97      1.00      0.98      1729\n",
            "           6       0.85      0.89      0.87      1663\n",
            "\n",
            "    accuracy                           0.92     11734\n",
            "   macro avg       0.92      0.92      0.92     11734\n",
            "weighted avg       0.92      0.92      0.92     11734\n",
            "\n"
          ]
        }
      ]
    },
    {
      "cell_type": "markdown",
      "source": [
        "**Saved the final model in drive using save() method**"
      ],
      "metadata": {
        "id": "3jQP4PCF-lUU"
      }
    },
    {
      "cell_type": "code",
      "source": [
        "import os\n",
        "folder_path = \"/content/drive/MyDrive\"\n",
        "file_name = \"skin_lesion_detection_model.h5\"\n",
        "\n",
        "model.save(os.path.join(folder_path, file_name))"
      ],
      "metadata": {
        "id": "QechvbDjzpi8"
      },
      "execution_count": null,
      "outputs": []
    },
    {
      "cell_type": "code",
      "source": [],
      "metadata": {
        "id": "2ukI0XL2H7dT"
      },
      "execution_count": null,
      "outputs": []
    }
  ]
}